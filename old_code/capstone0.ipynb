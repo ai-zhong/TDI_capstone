{
 "cells": [
  {
   "cell_type": "code",
   "execution_count": 8,
   "metadata": {
    "collapsed": true
   },
   "outputs": [],
   "source": [
    "# this notebook preprocessed six tables downloaded from USPTO (merged to one file)\n",
    "# also it created the dictionary for further matching of company names\n",
    "import pandas as pd\n",
    "import numpy as np\n",
    "import dill"
   ]
  },
  {
   "cell_type": "code",
   "execution_count": 4,
   "metadata": {
    "collapsed": true
   },
   "outputs": [],
   "source": [
    "assignee = pd.read_pickle('preprocess files/assignee')"
   ]
  },
  {
   "cell_type": "code",
   "execution_count": 6,
   "metadata": {
    "collapsed": true
   },
   "outputs": [],
   "source": [
    "assignment = pd.read_pickle('preprocess files/assignment')\n",
    "assignor = pd.read_pickle('preprocess files/assignor')\n",
    "docid = pd.read_pickle('preprocess files/docid')\n",
    "merge_1 = assignee.merge(assignment, how='outer', on='rf_id')\n",
    "merge_2 = merge_1.merge(assignor, how='outer', on='rf_id')\n",
    "merge_3 = merge_2.merge(docid, how = 'outer', on='rf_id')"
   ]
  },
  {
   "cell_type": "code",
   "execution_count": 9,
   "metadata": {
    "collapsed": true
   },
   "outputs": [],
   "source": [
    "dill.dump(merge_3, open('merge_3.pkd', 'wb'))"
   ]
  },
  {
   "cell_type": "code",
   "execution_count": null,
   "metadata": {
    "collapsed": true
   },
   "outputs": [],
   "source": []
  },
  {
   "cell_type": "code",
   "execution_count": null,
   "metadata": {
    "collapsed": true
   },
   "outputs": [],
   "source": [
    "# ee_name = merge_3['ee_name']\n",
    "# ee_name_uni = list(set(list(ee_name)))\n",
    "# ee_name_clean = [str(name) for name in ee_name_uni if str(name)!= 'nan']\n",
    "# ee_name_sorted = sorted(ee_name_clean)\n",
    "# pd.Series(ee_name_sorted).to_csv('ee_names.csv')\n",
    "# companylist0 = pd.read_csv('companylist_0.csv', usecols=['Symbol','Name','Sector','Industry'])\n",
    "# companylist1 = pd.read_csv('companylist_1.csv', usecols=['Symbol','Name','Sector','Industry'])\n",
    "# companylist2 = pd.read_csv('companylist_2.csv', usecols=['Ticker','Name','Sector','Industry'])\n",
    "# companylist2.rename(columns={'Ticker':'Symbol'}, inplace=True)\n",
    "# companylist = (companylist0.append(companylist1).append(companylist2))\n",
    "# companylist.to_csv('companylist.csv')\n",
    "# len(companylist)"
   ]
  },
  {
   "cell_type": "code",
   "execution_count": 316,
   "metadata": {},
   "outputs": [
    {
     "name": "stderr",
     "output_type": "stream",
     "text": [
      "/Users/annzhong/anaconda/lib/python3.6/site-packages/numpy/lib/arraysetops.py:395: FutureWarning: elementwise comparison failed; returning scalar instead, but in the future will perform elementwise comparison\n",
      "  mask |= (ar1 == a)\n"
     ]
    }
   ],
   "source": [
    "companylist = pd.read_csv('companylist.csv', index_col=0)\n",
    "ee_names = pd.read_csv('ee_names.csv', index_col=0, header=None)\n",
    "or_names = pd.read_csv('or_names.csv', index_col=0, header=None)"
   ]
  },
  {
   "cell_type": "code",
   "execution_count": null,
   "metadata": {
    "collapsed": true
   },
   "outputs": [],
   "source": [
    "# assignor = pd.read_pickle('assignor')\n",
    "# or_name_uni = list(set(list(assignor['or_name'])))\n",
    "# or_name_clean = [str(name) for name in or_name_uni if str(name)!= 'nan']\n",
    "# or_name_sorted = sorted(or_name_clean)\n",
    "# pd.Series(or_name_sorted).to_csv('or_names.csv')"
   ]
  },
  {
   "cell_type": "code",
   "execution_count": null,
   "metadata": {
    "collapsed": true
   },
   "outputs": [],
   "source": [
    "# import spacy\n",
    "# nlp = spacy.load('en')"
   ]
  },
  {
   "cell_type": "code",
   "execution_count": 283,
   "metadata": {
    "collapsed": true
   },
   "outputs": [],
   "source": [
    "# ee_name_arr = np.array(ee_names[1])\n",
    "# ee_org = []\n",
    "# for ee_name in ee_name_arr:\n",
    "#     doc = nlp(ee_name)\n",
    "\n",
    "#     if len(doc.ents)>0:\n",
    "#         for ent in doc.ents:\n",
    "#             ee_org.append(str(ent))\n",
    "#             break\n",
    "#     else:\n",
    "#         ee_org.append('no ents available!')\n",
    "\n",
    "# ee_names['filtered'] = ee_org\n",
    "# ee_names.to_csv('ee_names_2.csv')"
   ]
  },
  {
   "cell_type": "code",
   "execution_count": 323,
   "metadata": {
    "collapsed": true
   },
   "outputs": [],
   "source": [
    "patent_names = ee_names.append(or_names)\n",
    "patent_names_list = sorted(list(set(list(patent_names[1]))))"
   ]
  },
  {
   "cell_type": "code",
   "execution_count": 368,
   "metadata": {
    "collapsed": true
   },
   "outputs": [],
   "source": [
    "companylist_no_none = [name.upper().replace('-',' ').replace('.','').replace(',','')\n",
    "                       for name in list(companylist['Name']) if str(name) != 'nan']\n",
    "companylist_sorted = sorted(list(set(companylist_no_none)))"
   ]
  },
  {
   "cell_type": "code",
   "execution_count": 374,
   "metadata": {
    "collapsed": true
   },
   "outputs": [],
   "source": [
    "patent_name_list2 = [name.replace('-',' ').replace('.','').replace(',','')\\\n",
    "                     .replace(' & ', '&').replace('  ',' ').replace('\\\"','').strip() \n",
    "                     for name in patent_names_list]\n",
    "patentname_sorted = sorted(list(set(patent_name_list2)))"
   ]
  },
  {
   "cell_type": "code",
   "execution_count": 377,
   "metadata": {
    "collapsed": true
   },
   "outputs": [],
   "source": [
    "# patentname_sorted"
   ]
  },
  {
   "cell_type": "code",
   "execution_count": 395,
   "metadata": {
    "collapsed": true
   },
   "outputs": [],
   "source": [
    "companylist_sorted = [name for name in companylist_sorted if len(name)>1]"
   ]
  },
  {
   "cell_type": "code",
   "execution_count": 396,
   "metadata": {
    "collapsed": true
   },
   "outputs": [],
   "source": [
    "# now match patentname_sorted with companylist_sorted, from which can get the ticker name\n",
    "\n",
    "# first categorize companylist_sorted into A-Z for faster matching later\n",
    "import re\n",
    "\n",
    "match_dict = {}\n",
    "curr_letter = ' '\n",
    "\n",
    "for i in patentname_sorted:\n",
    "    letter = list(i)[0]\n",
    "    if curr_letter != letter:\n",
    "        data = [re.compile(item) for item in companylist_sorted if list(item)[0] == letter]\n",
    "        if data == []:\n",
    "            pass\n",
    "        else:\n",
    "            match_dict[letter] = data\n",
    "            curr_letter = letter\n",
    "    elif curr_letter == letter:\n",
    "        continue"
   ]
  },
  {
   "cell_type": "code",
   "execution_count": 397,
   "metadata": {
    "collapsed": true
   },
   "outputs": [],
   "source": [
    "# match_dict\n",
    "# remove those name that doesn't have in database\n",
    "patent_name_filter = [name for name in patentname_sorted \n",
    "                      if list(name)[0] in list(match_dict.keys())]\n",
    "filtered = sorted(list(set(patent_name_filter)))"
   ]
  },
  {
   "cell_type": "code",
   "execution_count": 398,
   "metadata": {
    "collapsed": true
   },
   "outputs": [],
   "source": [
    "filtered = [name for name in filtered if len(name)>1]"
   ]
  },
  {
   "cell_type": "code",
   "execution_count": 399,
   "metadata": {
    "collapsed": true
   },
   "outputs": [],
   "source": [
    "company_dict = {}\n",
    "no_match = []\n",
    "\n",
    "for i in filtered:\n",
    "    key = list(i)[0]\n",
    "    dictionary = match_dict[key]\n",
    "    for r in dictionary:\n",
    "        if r.match(i):\n",
    "            company_dict[i] = r.match(i).group(0)\n",
    "        else:\n",
    "            no_match.append(i)"
   ]
  },
  {
   "cell_type": "code",
   "execution_count": 410,
   "metadata": {
    "collapsed": true
   },
   "outputs": [],
   "source": [
    "# company_dict"
   ]
  },
  {
   "cell_type": "code",
   "execution_count": 401,
   "metadata": {
    "collapsed": true
   },
   "outputs": [],
   "source": [
    "import dill"
   ]
  },
  {
   "cell_type": "code",
   "execution_count": 404,
   "metadata": {
    "collapsed": true
   },
   "outputs": [],
   "source": [
    "dill.dump(company_dict, open('company_dict.pkd', 'wb'))"
   ]
  },
  {
   "cell_type": "code",
   "execution_count": null,
   "metadata": {
    "collapsed": true
   },
   "outputs": [],
   "source": []
  },
  {
   "cell_type": "code",
   "execution_count": null,
   "metadata": {
    "collapsed": true
   },
   "outputs": [],
   "source": []
  }
 ],
 "metadata": {
  "kernelspec": {
   "display_name": "Python 3",
   "language": "python",
   "name": "python3"
  },
  "language_info": {
   "codemirror_mode": {
    "name": "ipython",
    "version": 3
   },
   "file_extension": ".py",
   "mimetype": "text/x-python",
   "name": "python",
   "nbconvert_exporter": "python",
   "pygments_lexer": "ipython3",
   "version": "3.6.2"
  }
 },
 "nbformat": 4,
 "nbformat_minor": 2
}
