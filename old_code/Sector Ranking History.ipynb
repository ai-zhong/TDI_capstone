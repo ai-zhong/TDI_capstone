{
 "cells": [
  {
   "cell_type": "code",
   "execution_count": 1,
   "metadata": {
    "collapsed": true
   },
   "outputs": [],
   "source": [
    "%config InlineBackend.figure_format='retina'\n",
    "%matplotlib inline\n",
    "import dill\n",
    "import pandas as pd\n",
    "import numpy as np\n",
    "import requests\n",
    "import matplotlib.pyplot as plt\n",
    "import matplotlib.backends.backend_pdf\n",
    "from matplotlib import rc\n",
    "from matplotlib import ticker\n",
    "from matplotlib.ticker import ScalarFormatter\n",
    "from matplotlib.ticker import FuncFormatter\n",
    "from ipywidgets import *\n",
    "from IPython.display import display\n",
    "from IPython.display import clear_output\n",
    "\n",
    "\n",
    "font = {'color':  'black',\n",
    "        'weight': 'normal',\n",
    "        'size': 10,\n",
    "        'style': 'italic'\n",
    "        }\n",
    "\n",
    "matplotlib.rcParams.update({'font.family': 'sans-serif','font.sans-serif': 'Arial', 'mathtext.fontset': 'stix',\n",
    "                           'font.size':'12'})\n",
    "matplotlib.rcParams['axes.linewidth'] = 1.3\n",
    "formatter = ticker.ScalarFormatter(useMathText=True)"
   ]
  },
  {
   "cell_type": "code",
   "execution_count": 2,
   "metadata": {
    "collapsed": true
   },
   "outputs": [],
   "source": [
    "body = pd.read_csv('ee_or_matched.csv', dtype=str, usecols=['title',\n",
    "                                                            'exec_dt',\n",
    "                                                            'convey_text',\n",
    "                                                            'grant_doc_num',\n",
    "                                                            'ticker',\n",
    "                                                            'or_name_matched'])"
   ]
  },
  {
   "cell_type": "code",
   "execution_count": 3,
   "metadata": {
    "collapsed": true
   },
   "outputs": [],
   "source": [
    "year = [str(date).split('-', 1)[0] for date in body['exec_dt']]\n",
    "body['exec_dt'] = year"
   ]
  },
  {
   "cell_type": "code",
   "execution_count": 5,
   "metadata": {
    "collapsed": true
   },
   "outputs": [],
   "source": [
    "ticker_from_patent = list(set(body['ticker']))"
   ]
  },
  {
   "cell_type": "code",
   "execution_count": 6,
   "metadata": {
    "collapsed": true
   },
   "outputs": [],
   "source": [
    "# update data sources:\n",
    "company_info = pd.read_csv('companytickers.csv')"
   ]
  },
  {
   "cell_type": "code",
   "execution_count": 7,
   "metadata": {
    "collapsed": true
   },
   "outputs": [],
   "source": [
    "company_info_use = company_info[company_info['Ticker'].isin(ticker_from_patent)]\n",
    "company_info_use = company_info_use.rename(columns={'Ticker':'ticker'})"
   ]
  },
  {
   "cell_type": "code",
   "execution_count": 8,
   "metadata": {
    "collapsed": true
   },
   "outputs": [],
   "source": [
    "historydata = body.merge(company_info_use, on='ticker')\n",
    "sector_yearly = historydata.groupby(['exec_dt','Sector']).count()\n",
    "sector_yearly_unpack = pd.DataFrame(sector_yearly.to_records())\n",
    "sectors = list(set(sector_yearly_unpack['Sector']))"
   ]
  },
  {
   "cell_type": "code",
   "execution_count": 77,
   "metadata": {},
   "outputs": [
    {
     "data": {
      "application/vnd.jupyter.widget-view+json": {
       "model_id": "e202e6c7a7124ce0bea502e609f7983e"
      }
     },
     "metadata": {},
     "output_type": "display_data"
    }
   ],
   "source": [
    "dropdown = widgets.Dropdown(options=sectors, description='Sectors')\n",
    "display(dropdown)"
   ]
  },
  {
   "cell_type": "code",
   "execution_count": 102,
   "metadata": {},
   "outputs": [
    {
     "data": {
      "image/png": "[encoded data removed]",
      "text/plain": [
       "<matplotlib.figure.Figure at 0x110fa11d0>"
      ]
     },
     "metadata": {
      "image/png": {
       "height": 267,
       "width": 709
      }
     },
     "output_type": "display_data"
    }
   ],
   "source": [
    "yearlist = sorted(list(set(sector_yearly_unpack['exec_dt'])))\n",
    "test = []\n",
    "for year in yearlist:\n",
    "    test.append(sector_yearly_unpack[sector_yearly_unpack['exec_dt']==year])\n",
    "    \n",
    "rank = []    \n",
    "for i in range(len(test)):    \n",
    "    test_year = test[i][['exec_dt','Sector','grant_doc_num']].sort_values(by='grant_doc_num', ascending=False)\n",
    "    test_year = test_year.reset_index(drop=True)\n",
    "    rank.append(test_year)\n",
    "    \n",
    "sector = []\n",
    "target = dropdown.value\n",
    "for i in range(len(rank)):\n",
    "    df = rank[i]\n",
    "    if df[df['Sector'] == target].empty is False:\n",
    "        sector.append(df[df['Sector'] == target].reset_index())\n",
    "        \n",
    "ranking = []\n",
    "for i in sector:\n",
    "    if list(i['exec_dt'])[0] != 'nan':\n",
    "        ranking.append((np.datetime64(list(i['exec_dt'])[0]), list(i['index'])[0]))\n",
    "        \n",
    "rankingdf = pd.DataFrame(data=ranking)\n",
    "rankingdf.columns = ['year','ranking']\n",
    "plt.figure(figsize=(12,4))\n",
    "plt.plot_date(rankingdf['year'], rankingdf['ranking'], '*')\n",
    "plt.title(target)\n",
    "plt.grid()\n",
    "# plt.xticks(np.arange(min(rankingdf['year']), max(rankingdf['year'])+1, 1.0))\n",
    "ax = plt.gca()\n",
    "ax.invert_yaxis()"
   ]
  },
  {
   "cell_type": "code",
   "execution_count": null,
   "metadata": {
    "collapsed": true
   },
   "outputs": [],
   "source": []
  }
 ],
 "metadata": {
  "kernelspec": {
   "display_name": "Python 3",
   "language": "python",
   "name": "python3"
  },
  "language_info": {
   "codemirror_mode": {
    "name": "ipython",
    "version": 3
   },
   "file_extension": ".py",
   "mimetype": "text/x-python",
   "name": "python",
   "nbconvert_exporter": "python",
   "pygments_lexer": "ipython3",
   "version": "3.6.2"
  }
 },
 "nbformat": 4,
 "nbformat_minor": 2
}
