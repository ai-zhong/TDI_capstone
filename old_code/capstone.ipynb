{
 "cells": [
  {
   "cell_type": "code",
   "execution_count": null,
   "metadata": {},
   "outputs": [],
   "source": [
    "from IPython.display import HTML\n",
    "\n",
    "HTML('''<script>\n",
    "code_show=true; \n",
    "function code_toggle() {\n",
    " if (code_show){\n",
    " $('div.input').hide();\n",
    " } else {\n",
    " $('div.input').show();\n",
    " }\n",
    " code_show = !code_show\n",
    "} \n",
    "$( document ).ready(code_toggle);\n",
    "</script>\n",
    "The raw code for this IPython notebook is by default hidden for easier reading.\n",
    "To toggle on/off the raw code, click <a href=\"javascript:code_toggle()\">here</a>.''')\n"
   ]
  },
  {
   "cell_type": "markdown",
   "metadata": {},
   "source": [
    "# Innovation Evaluation \n",
    "## Explanatory Notes\n",
    "\n",
    "* Assignee: Entity Assigned TO\n",
    "* Assignor: Entity Assigned FROM\n",
    "* exec_dt: Execution Date between Entities\n",
    "* grant_doc_num: Granted Patent Document USPTO Number\n",
    "\n",
    "*Patent is transfered from assignor to assignee*"
   ]
  },
  {
   "cell_type": "code",
   "execution_count": 1,
   "metadata": {},
   "outputs": [
    {
     "data": {
      "application/javascript": [
       "IPython.OutputArea.auto_scroll_threshold = 9999;"
      ],
      "text/plain": [
       "<IPython.core.display.Javascript object>"
      ]
     },
     "metadata": {},
     "output_type": "display_data"
    }
   ],
   "source": [
    "%%javascript\n",
    "IPython.OutputArea.auto_scroll_threshold = 9999;"
   ]
  },
  {
   "cell_type": "code",
   "execution_count": 2,
   "metadata": {
    "collapsed": true
   },
   "outputs": [],
   "source": [
    "%config InlineBackend.figure_format='retina'\n",
    "%matplotlib inline\n",
    "import dill\n",
    "import pandas as pd\n",
    "import numpy as np\n",
    "import requests\n",
    "import matplotlib.pyplot as plt\n",
    "import matplotlib.backends.backend_pdf\n",
    "from matplotlib import rc\n",
    "from matplotlib import ticker\n",
    "from matplotlib.ticker import ScalarFormatter\n",
    "from matplotlib.ticker import FuncFormatter\n",
    "from ipywidgets import *\n",
    "from IPython.display import display\n",
    "from IPython.display import clear_output\n",
    "import datetime\n",
    "\n",
    "\n",
    "font = {'color':  'black',\n",
    "        'weight': 'normal',\n",
    "        'size': 10,\n",
    "        'style': 'italic'\n",
    "        }\n",
    "\n",
    "matplotlib.rcParams.update({'font.family': 'sans-serif','font.sans-serif': 'Arial', 'mathtext.fontset': 'stix',\n",
    "                           'font.size':'12'})\n",
    "matplotlib.rcParams['axes.linewidth'] = 1.3\n",
    "formatter = ticker.ScalarFormatter(useMathText=True)"
   ]
  },
  {
   "cell_type": "code",
   "execution_count": 3,
   "metadata": {
    "collapsed": true
   },
   "outputs": [],
   "source": [
    "body = pd.read_csv('ee_or_matched.csv',index_col=0, dtype=str)"
   ]
  },
  {
   "cell_type": "code",
   "execution_count": null,
   "metadata": {
    "collapsed": true
   },
   "outputs": [],
   "source": [
    "# # daily patent assignment number\n",
    "# dategroup = body[['exec_dt','ee_name_matched', 'grant_doc_num']]\n",
    "# date_numofass = dategroup.groupby('exec_dt').count().reset_index()\n",
    "# year = [date.split('-', 1)[0] for date in date_numofass['exec_dt']]\n",
    "# date_numofass['exec_dt'] = year\n",
    "# # yearly patent assignment number\n",
    "# yearlydata = date_numofass.groupby('exec_dt').sum().reset_index()"
   ]
  },
  {
   "cell_type": "code",
   "execution_count": 4,
   "metadata": {},
   "outputs": [],
   "source": [
    "dategroup = body[['exec_dt', 'grant_doc_num']]\n",
    "daily_patent = dategroup.groupby('exec_dt').nunique().drop('exec_dt', axis=1).reset_index()\n",
    "year = [date.split('-', 1)[0] for date in daily_patent['exec_dt']]\n",
    "daily_patent['exec_dt'] = year\n",
    "yearlydata = daily_patent.groupby('exec_dt').sum().reset_index()\n",
    "# yearlydata"
   ]
  },
  {
   "cell_type": "code",
   "execution_count": 5,
   "metadata": {},
   "outputs": [
    {
     "data": {
      "text/html": [
       "<div>\n",
       "<style>\n",
       "    .dataframe thead tr:only-child th {\n",
       "        text-align: right;\n",
       "    }\n",
       "\n",
       "    .dataframe thead th {\n",
       "        text-align: left;\n",
       "    }\n",
       "\n",
       "    .dataframe tbody tr th {\n",
       "        vertical-align: top;\n",
       "    }\n",
       "</style>\n",
       "<table border=\"1\" class=\"dataframe\">\n",
       "  <thead>\n",
       "    <tr style=\"text-align: right;\">\n",
       "      <th></th>\n",
       "      <th>exec_dt</th>\n",
       "      <th>grant_doc_num</th>\n",
       "    </tr>\n",
       "  </thead>\n",
       "  <tbody>\n",
       "    <tr>\n",
       "      <th>0</th>\n",
       "      <td>1954</td>\n",
       "      <td>2</td>\n",
       "    </tr>\n",
       "    <tr>\n",
       "      <th>1</th>\n",
       "      <td>1955</td>\n",
       "      <td>1</td>\n",
       "    </tr>\n",
       "    <tr>\n",
       "      <th>2</th>\n",
       "      <td>1967</td>\n",
       "      <td>1</td>\n",
       "    </tr>\n",
       "    <tr>\n",
       "      <th>3</th>\n",
       "      <td>1969</td>\n",
       "      <td>1</td>\n",
       "    </tr>\n",
       "    <tr>\n",
       "      <th>4</th>\n",
       "      <td>1970</td>\n",
       "      <td>6</td>\n",
       "    </tr>\n",
       "  </tbody>\n",
       "</table>\n",
       "</div>"
      ],
      "text/plain": [
       "  exec_dt  grant_doc_num\n",
       "0    1954              2\n",
       "1    1955              1\n",
       "2    1967              1\n",
       "3    1969              1\n",
       "4    1970              6"
      ]
     },
     "execution_count": 5,
     "metadata": {},
     "output_type": "execute_result"
    }
   ],
   "source": [
    "yearlydata.head()"
   ]
  },
  {
   "cell_type": "code",
   "execution_count": 6,
   "metadata": {
    "collapsed": true
   },
   "outputs": [],
   "source": [
    "# filter data by year:\n",
    "# body: the dataframe to be filtered \n",
    "# col_name: the name of the date column\n",
    "\n",
    "def data_by_year(df, min_year, max_year, col_name='exec_dt'):\n",
    "    lower = df[pd.to_datetime(df[col_name])>pd.to_datetime(min_year)]\n",
    "    data = lower[pd.to_datetime(lower[col_name])<pd.to_datetime(max_year)]\n",
    "    return data\n",
    "\n",
    "def top_group(df, groupbyname, sortbyname, topnum):\n",
    "    raw = df[[groupbyname, sortbyname]].groupby(groupbyname).nunique()\n",
    "    top = raw.sort_values(by=sortbyname, ascending=False)[:topnum]\n",
    "    return top\n",
    "\n",
    "def update_data_year(*args):\n",
    "    data_year = data_by_year(df, \n",
    "                             min_year=str(slider.value[0]), \n",
    "                             max_year=str(slider.value[1]))\n",
    "    return data_year\n",
    "\n",
    "def plot_by_range(df, min_year, max_year):\n",
    "    body_filtered = data_by_year(df, min_year, max_year)\n",
    "    x = list(body_filtered.iloc[:,0].astype(int))\n",
    "    y = list(body_filtered.iloc[:,1])\n",
    "        \n",
    "    plt.figure(figsize=(8,4))\n",
    "    plt.bar(x,y)\n",
    "    plt.xlabel('Year')\n",
    "    plt.ylabel('No. Patent Assignment')\n",
    "    plt.title('Number of Patent Assignment by Year')\n",
    "    plt.grid(True)\n",
    "    \n",
    "def update_plot_by_range(*args):\n",
    "    clear_output()\n",
    "    plot_by_range(df, min_year=str(slider.value[0]), max_year=str(slider.value[1]))"
   ]
  },
  {
   "cell_type": "code",
   "execution_count": 7,
   "metadata": {},
   "outputs": [
    {
     "data": {
      "application/vnd.jupyter.widget-view+json": {
       "model_id": "0877bdd0c1074961a15ce6ad4c2f11d8"
      }
     },
     "metadata": {},
     "output_type": "display_data"
    },
    {
     "data": {
      "image/png": "[encoded data removed]",
      "text/plain": [
       "<matplotlib.figure.Figure at 0x10f5fec88>"
      ]
     },
     "metadata": {
      "image/png": {
       "height": 282,
       "width": 518
      }
     },
     "output_type": "display_data"
    }
   ],
   "source": [
    "slider = widgets.IntRangeSlider(\n",
    "    value=[2008, 2018],\n",
    "    min=1954,\n",
    "    max=2018,\n",
    "    step=1,\n",
    "    description='Year Range:',\n",
    "    disabled=False,\n",
    "    continuous_update=True,\n",
    "    orientation='horizontal',\n",
    "    readout=True,\n",
    "    readout_format='i',\n",
    "    slider_color='white',\n",
    "    color='black',\n",
    "    layout={'width': '60%'}\n",
    ")\n",
    "\n",
    "df = yearlydata\n",
    "plot_by_range(df, min_year='2008', max_year='2018')\n",
    "slider.observe(handler=update_plot_by_range, names='value')\n",
    "## generate the ticker list in this time range\n",
    "slider.observe(handler=update_data_year, names='value')\n",
    "data_year = update_data_year()\n",
    "\n",
    "display(slider)"
   ]
  },
  {
   "cell_type": "markdown",
   "metadata": {},
   "source": [
    "# Study by Year\n",
    "## Group by Sector\n"
   ]
  },
  {
   "cell_type": "code",
   "execution_count": 18,
   "metadata": {},
   "outputs": [
    {
     "data": {
      "text/html": [
       "<div>\n",
       "<style>\n",
       "    .dataframe thead tr:only-child th {\n",
       "        text-align: right;\n",
       "    }\n",
       "\n",
       "    .dataframe thead th {\n",
       "        text-align: left;\n",
       "    }\n",
       "\n",
       "    .dataframe tbody tr th {\n",
       "        vertical-align: top;\n",
       "    }\n",
       "</style>\n",
       "<table border=\"1\" class=\"dataframe\">\n",
       "  <thead>\n",
       "    <tr style=\"text-align: right;\">\n",
       "      <th></th>\n",
       "      <th>exec_dt</th>\n",
       "      <th>grant_doc_num</th>\n",
       "    </tr>\n",
       "  </thead>\n",
       "  <tbody>\n",
       "    <tr>\n",
       "      <th>41</th>\n",
       "      <td>2009</td>\n",
       "      <td>31129</td>\n",
       "    </tr>\n",
       "    <tr>\n",
       "      <th>42</th>\n",
       "      <td>2010</td>\n",
       "      <td>33512</td>\n",
       "    </tr>\n",
       "    <tr>\n",
       "      <th>43</th>\n",
       "      <td>2011</td>\n",
       "      <td>34911</td>\n",
       "    </tr>\n",
       "    <tr>\n",
       "      <th>44</th>\n",
       "      <td>2012</td>\n",
       "      <td>40348</td>\n",
       "    </tr>\n",
       "    <tr>\n",
       "      <th>45</th>\n",
       "      <td>2013</td>\n",
       "      <td>58261</td>\n",
       "    </tr>\n",
       "  </tbody>\n",
       "</table>\n",
       "</div>"
      ],
      "text/plain": [
       "   exec_dt  grant_doc_num\n",
       "41    2009          31129\n",
       "42    2010          33512\n",
       "43    2011          34911\n",
       "44    2012          40348\n",
       "45    2013          58261"
      ]
     },
     "execution_count": 18,
     "metadata": {},
     "output_type": "execute_result"
    }
   ],
   "source": [
    "data_year.head()\n",
    "# tops.head()"
   ]
  },
  {
   "cell_type": "code",
   "execution_count": 9,
   "metadata": {
    "collapsed": true
   },
   "outputs": [],
   "source": [
    "## specify top how many sectors you want to look at?\n",
    "tops = top_group(body, 'ticker', 'grant_doc_num', None)\n",
    "tickerlist = list(tops.index)"
   ]
  },
  {
   "cell_type": "code",
   "execution_count": 12,
   "metadata": {
    "collapsed": true
   },
   "outputs": [],
   "source": [
    "# updated data source:\n",
    "company_info = pd.read_csv('companytickers.csv', usecols=['Ticker','Sector', 'Industry'])"
   ]
  },
  {
   "cell_type": "code",
   "execution_count": 13,
   "metadata": {
    "collapsed": true
   },
   "outputs": [],
   "source": [
    "## extract company info combine with \n",
    "company_info_use = company_info[company_info['Ticker'].isin(tickerlist)]\n",
    "tops = tops.drop('ticker', axis=1).reset_index()\n",
    "joined_data = company_info_use.rename(columns={'Ticker':'ticker'}).merge(tops, on='ticker')"
   ]
  },
  {
   "cell_type": "code",
   "execution_count": 14,
   "metadata": {},
   "outputs": [],
   "source": [
    "sec_ind_sort = joined_data.groupby(by=['Sector', 'Industry'], as_index=False).sum().sort_values('grant_doc_num', ascending=False)"
   ]
  },
  {
   "cell_type": "code",
   "execution_count": 15,
   "metadata": {},
   "outputs": [
    {
     "data": {
      "text/plain": [
       "110"
      ]
     },
     "execution_count": 15,
     "metadata": {},
     "output_type": "execute_result"
    }
   ],
   "source": [
    "len(sec_ind_sort)"
   ]
  },
  {
   "cell_type": "code",
   "execution_count": 16,
   "metadata": {},
   "outputs": [],
   "source": [
    "groupbysec = pd.DataFrame(joined_data.groupby(['Sector'])['grant_doc_num'].sum())\n",
    "groupbysec = groupbysec.sort_values(by='grant_doc_num',ascending=False).reset_index()\n",
    "sectorlist = list(groupbysec['Sector'])\n",
    "sectornum = list(groupbysec['grant_doc_num'])"
   ]
  },
  {
   "cell_type": "code",
   "execution_count": 17,
   "metadata": {},
   "outputs": [
    {
     "data": {
      "image/png": "[encoded data removed]",
      "text/plain": [
       "<matplotlib.figure.Figure at 0x12c67a898>"
      ]
     },
     "metadata": {
      "image/png": {
       "height": 381,
       "width": 738
      }
     },
     "output_type": "display_data"
    }
   ],
   "source": [
    "plt.figure(figsize=(10,6))\n",
    "plt.barh(np.arange(len(sectorlist)), sectornum, align='center')\n",
    "plt.xscale('log')\n",
    "plt.yticks(np.arange(len(sectorlist)), sectorlist);\n",
    "plt.grid(which='major', axis='x')\n",
    "plt.title('Num. of Patent Assignment by Sector: year {} to {}'.format(slider.value[0], slider.value[1]));"
   ]
  },
  {
   "cell_type": "code",
   "execution_count": null,
   "metadata": {},
   "outputs": [],
   "source": [
    "# dftest[dftest['grant_doc_num'].isnull()]"
   ]
  },
  {
   "cell_type": "code",
   "execution_count": null,
   "metadata": {
    "collapsed": true
   },
   "outputs": [],
   "source": [
    "dftest = data_year[data_year['ticker'] == 'IBM']\n",
    "grant_nums = list(dftest['grant_doc_num'])\n",
    "titles = list(dftest['title'])"
   ]
  },
  {
   "cell_type": "code",
   "execution_count": null,
   "metadata": {
    "collapsed": true
   },
   "outputs": [],
   "source": [
    "from tqdm import tqdm"
   ]
  },
  {
   "cell_type": "code",
   "execution_count": null,
   "metadata": {},
   "outputs": [],
   "source": [
    "title_dict = dict()\n",
    "\n",
    "for i in tqdm(range(len(titles))):\n",
    "#     if str(grant_nums[i]) != 'nan':\n",
    "    if grant_nums[i] in title_dict.keys():\n",
    "        title_dict[grant_nums[i]].append(titles[i])\n",
    "    else:\n",
    "        title_dict[grant_nums[i]] = [titles[i]]"
   ]
  },
  {
   "cell_type": "code",
   "execution_count": null,
   "metadata": {},
   "outputs": [],
   "source": [
    "error = []\n",
    "for key, value in title_dict.items():\n",
    "    if len(set(value))>1:\n",
    "        error.append((key, value))"
   ]
  },
  {
   "cell_type": "markdown",
   "metadata": {},
   "source": [
    "# Sector Companies Patent Assignment Info"
   ]
  },
  {
   "cell_type": "code",
   "execution_count": null,
   "metadata": {
    "collapsed": true
   },
   "outputs": [],
   "source": [
    "# need input of top companies to see\n",
    "def sector_plot(data_year, sector, topnum):\n",
    "    sec_tickers = list(company_info[company_info['Sector']==sector]['Ticker'])\n",
    "    sectordf = data_year[data_year['ticker'].isin(sec_tickers)]\n",
    "    topgroup = top_group(sectordf, 'ticker', 'grant_doc_num', topnum)\n",
    "    topgroup = topgroup.reset_index()\n",
    "    x = list(topgroup.iloc[:,0])\n",
    "    y = list(topgroup.iloc[:,1])\n",
    "    if len(x)<=5:\n",
    "        plt.figure(figsize=(5,3))\n",
    "    if 5<len(x)<=10:\n",
    "        plt.figure(figsize=(8,4))\n",
    "    if 10<len(x)<=20:\n",
    "        plt.figure(figsize=(12,8))\n",
    "    if len(x)>20:\n",
    "        plt.figure(figsize=(12,14))\n",
    "    plt.barh(-np.arange(len(x)), y, height=0.5, align='center')\n",
    "    plt.xscale('log')\n",
    "    plt.yticks(-np.arange(len(x)), x);\n",
    "    plt.grid(which='both', axis='x')\n",
    "    plt.title('Patent Distribution: {} year {} to {}'.format(sector, slider.value[0], slider.value[1]))\n",
    "    \n",
    "def update_sector_plot(*args):\n",
    "    clear_output()\n",
    "    sector_plot(data_year, sector=select_sector.value[0], topnum=topnum.value)"
   ]
  },
  {
   "cell_type": "code",
   "execution_count": null,
   "metadata": {
    "collapsed": true
   },
   "outputs": [],
   "source": [
    "def update_companylist(*args):\n",
    "    sec_tickers = list(company_info[company_info['Sector']==select_sector.value[0]]['Ticker'])\n",
    "    sectordf = data_year[data_year['ticker'].isin(sec_tickers)]\n",
    "    companylist = list(top_group(sectordf, 'ticker', 'grant_doc_num', topnum.value).index)\n",
    "    return companylist"
   ]
  },
  {
   "cell_type": "code",
   "execution_count": null,
   "metadata": {},
   "outputs": [],
   "source": [
    "data_year"
   ]
  },
  {
   "cell_type": "code",
   "execution_count": null,
   "metadata": {
    "scrolled": false
   },
   "outputs": [],
   "source": [
    "topnum = widgets.IntSlider(min=0,\n",
    "                           max=50,\n",
    "                           step=2,\n",
    "                           value=20,\n",
    "                           description='Top Companies to Show:',\n",
    "                           disabled=False,\n",
    "                           continuous_update=True,\n",
    "                           orientation='horizontal',\n",
    "                           readout=True,\n",
    "                           readout_format='d',\n",
    "                           layout={'width': '50%'})\n",
    "\n",
    "select_sector = widgets.SelectMultiple(options=sectorlist, \n",
    "                                       value=(sectorlist[0],),\n",
    "                                       description='Select Sector:',\n",
    "                                       disabled=False)\n",
    "\n",
    "\n",
    "select_sector.observe(handler=update_sector_plot, names='value')\n",
    "topnum.observe(handler=update_sector_plot, names='value')\n",
    "select_sector.observe(handler=update_companylist, names='value')\n",
    "topnum.observe(handler=update_companylist, names='value')\n",
    "companylist = update_companylist()\n",
    "\n",
    "sector_plot(data_year, sectorlist[0], 20)\n",
    "\n",
    "display(topnum)\n",
    "display(select_sector)"
   ]
  },
  {
   "cell_type": "markdown",
   "metadata": {},
   "source": [
    "# Companies' Patent Assignment and Stock Price"
   ]
  },
  {
   "cell_type": "code",
   "execution_count": null,
   "metadata": {
    "collapsed": true
   },
   "outputs": [],
   "source": [
    "# body: dataframe to be calculated from, usually already filtered by 'data_by_year'\n",
    "min_yr = str(slider.value[0])\n",
    "max_yr = str(slider.value[1])\n",
    "\n",
    "def get_daily_patentnum(body, ticker, groupbyname='exec_dt', sortbyname='grant_doc_num'):\n",
    "    company = body[body['ticker']==ticker]\n",
    "    company_use = company.drop(['ee_address_1','ee_address_2','ee_city','ee_state','ee_postcode','ee_country','or_name_matched'],axis=1)\n",
    "    daily_num = company_use[[sortbyname, groupbyname]].groupby(groupbyname).count().reset_index()\n",
    "    daily_num2 = data_by_year(daily_num, min_yr, max_yr, col_name='exec_dt')\n",
    "    time = list(pd.to_datetime(daily_num2[daily_num.columns[0]]))\n",
    "    patentnum = list(daily_num2[sortbyname])\n",
    "    \n",
    "    return (time, patentnum)\n",
    "\n",
    "def get_stock_data(ticker, y_min, y_max, temp):\n",
    "    if ticker in temp:\n",
    "        return (temp[ticker],0)\n",
    "    else:\n",
    "        api_url = 'https://www.alphavantage.co/query?function=TIME_SERIES_DAILY_ADJUSTED&symbol={}&outputsize=full&apikey=8DZ1S71GQ2XPK9JD'.format(ticker)\n",
    "        session = requests.Session()\n",
    "        session.mount('http://', requests.adapters.HTTPAdapter(max_retries=3))\n",
    "        raw_data = session.get(api_url)\n",
    "        txt = raw_data.json()\n",
    "        data = pd.DataFrame(txt['Time Series (Daily)']).T.reset_index()\n",
    "        data = data[['index','5. adjusted close']]\n",
    "        data.columns=['date', 'adj. close']\n",
    "        data = data.sort_values(\"date\", ascending=True)\n",
    "\n",
    "        dates = pd.to_datetime(data['date'])\n",
    "        lowerbd_st = data[data['date']>y_min]\n",
    "        stock_price = lowerbd_st[lowerbd_st['date']<y_max]\n",
    "        temp[ticker] = stock_price\n",
    "        return (stock_price, temp)    \n",
    "\n",
    "def two_scales(ax1,time1,data1,time2,data2,ticker,interval=30):\n",
    "    ax2 = ax1.twinx()\n",
    "\n",
    "    ax1.bar(time1, data1, color='r', width=interval, label='#patent')\n",
    "    ax1.set_xlabel('time')\n",
    "    ax1.set_ylabel('number of patent')\n",
    "    ax1.set_title(ticker)\n",
    "    ax1.legend(loc='best')\n",
    "\n",
    "    ax2.plot(time2, data2, color='b', label='stock price', linewidth=1)\n",
    "    ax2.set_ylabel('stock price')\n",
    "    ax2.legend(loc='lower left')\n",
    "    return ax1, ax2\n",
    "\n",
    "def plot_stocknpatent(body, ticker, min_yr, max_yr, interval, temp):\n",
    "    (x,y)=get_daily_patentnum(body, ticker=ticker)\n",
    "    stockdf = get_stock_data(ticker=ticker, y_min=str(min_yr), y_max=str(max_yr), temp=temp)[0]\n",
    "    stockx = list(stockdf[stockdf.columns[0]])\n",
    "    stockx = pd.to_datetime(stockx)\n",
    "    stocky = list(stockdf[stockdf.columns[1]])\n",
    "    stocky = list(map(float, stocky))\n",
    "    fig, ax = plt.subplots(figsize=(10,4))\n",
    "    ax1, ax2 = two_scales(ax, x, y, stockx, stocky, ticker=ticker, interval=interval)\n",
    "    \n",
    "def update_plot_stocknpatent(*args):\n",
    "    clear_output()\n",
    "    plot_stocknpatent(body, dropdown.value, min_yr, max_yr, 30, temp)\n"
   ]
  },
  {
   "cell_type": "code",
   "execution_count": null,
   "metadata": {
    "collapsed": true
   },
   "outputs": [],
   "source": [
    "# run once to initiate if previous record are gone\n",
    "# temp = dict()"
   ]
  },
  {
   "cell_type": "code",
   "execution_count": null,
   "metadata": {},
   "outputs": [],
   "source": [
    "# companylist\n",
    "dropdown = widgets.Dropdown(options=companylist, description='Company Ticker')\n",
    "dropdown.observe(handler=update_plot_stocknpatent, names='value')\n",
    "\n",
    "display(dropdown)"
   ]
  }
 ],
 "metadata": {
  "kernelspec": {
   "display_name": "Python 3",
   "language": "python",
   "name": "python3"
  },
  "language_info": {
   "codemirror_mode": {
    "name": "ipython",
    "version": 3
   },
   "file_extension": ".py",
   "mimetype": "text/x-python",
   "name": "python",
   "nbconvert_exporter": "python",
   "pygments_lexer": "ipython3",
   "version": "3.6.2"
  }
 },
 "nbformat": 4,
 "nbformat_minor": 2
}
