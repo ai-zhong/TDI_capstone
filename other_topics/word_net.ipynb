{
 "cells": [
  {
   "cell_type": "code",
   "execution_count": 5,
   "metadata": {},
   "outputs": [
    {
     "name": "stdout",
     "output_type": "stream",
     "text": [
      "Synset('cat.n.01') 0\n",
      "Synset('dog.n.01') 0\n",
      "Synset('horse.n.01') 0\n",
      "Synset('boat.n.01') 1\n",
      "Synset('ship.n.01') 1\n",
      "{\n",
      " \"cluster0\": [\n",
      "  \"cat.n.01\"\n",
      " ]\n",
      "}\n",
      "{\n",
      " \"cluster0\": [\n",
      "  \"cat.n.01\",\n",
      "  \"dog.n.01\"\n",
      " ]\n",
      "}\n",
      "{\n",
      " \"cluster0\": [\n",
      "  \"cat.n.01\",\n",
      "  \"dog.n.01\",\n",
      "  \"horse.n.01\"\n",
      " ]\n",
      "}\n",
      "{\n",
      " \"cluster0\": [\n",
      "  \"cat.n.01\",\n",
      "  \"dog.n.01\",\n",
      "  \"horse.n.01\"\n",
      " ],\n",
      " \"cluster1\": [\n",
      "  \"boat.n.01\"\n",
      " ]\n",
      "}\n",
      "{\n",
      " \"cluster0\": [\n",
      "  \"cat.n.01\",\n",
      "  \"dog.n.01\",\n",
      "  \"horse.n.01\"\n",
      " ],\n",
      " \"cluster1\": [\n",
      "  \"boat.n.01\",\n",
      "  \"ship.n.01\"\n",
      " ]\n",
      "}\n"
     ]
    }
   ],
   "source": [
    "from sklearn import cluster, datasets\n",
    "import numpy as np\n",
    "import json\n",
    "from nltk.corpus import wordnet\n",
    "from collections import defaultdict\n",
    "\n",
    "words = [wordnet.synset(u\"cat.n.01\"), wordnet.synset(u\"dog.n.01\"),\n",
    "         wordnet.synset(u\"horse.n.01\"), wordnet.synset(u\"boat.n.01\"), wordnet.synset(u\"ship.n.01\")]\n",
    "\n",
    "\n",
    "def w2w(w1, w2):\n",
    "      if w1 == w2:\n",
    "        return 1\n",
    "      else:\n",
    "        return w1.wup_similarity(w2)\n",
    "\n",
    "\n",
    "def make_data_using_wordnet(words):\n",
    "    list_of_vectors = []\n",
    "    for word_x in words:\n",
    "        wordvector = []\n",
    "        for word_y in words:\n",
    "            wordvector.append(w2w(word_x, word_y))\n",
    "        list_of_vectors.append(wordvector)\n",
    "    data = np.array(np.array(list_of_vectors))\n",
    "    labels = words\n",
    "    return (data, labels)\n",
    "\n",
    "\n",
    "def make_data_by_hand():\n",
    "    ''' make an array of word to word path distances, thus:\n",
    "         cat  dog   horse boat  ship\n",
    "    cat    1    0.8   0.6   0.1   0.1\n",
    "    dog    0.8  1     0.7   0.15  0.15\n",
    "    horse  0.6  0.7   1     0.1   0.1\n",
    "    boat   0.1  0.15  0.1   1     0.9\n",
    "    ship   0.1  0.15  0.1   0.9   1\n",
    "    '''\n",
    "\n",
    "    cat = np.array([1.0, 0.8, 0.6, 0.1, 0.1])\n",
    "    dog = np.array([0.8, 1.0, 0.7, 0.15, 0.15])\n",
    "    horse = np.array([0.6, 0.7, 1.0, 0.1, 0.1])\n",
    "    boat = np.array([0.1, 0.15, 0.1, 1.0, 0.9])\n",
    "    ship = np.array([0.1, 0.15, 0.1, 0.9, 1.0])\n",
    "\n",
    "    data = np.array([cat, dog, horse, boat, ship])\n",
    "    labels = np.array(['cat', 'dog', 'horse', 'boat', 'ship'])\n",
    "    return (data, labels)\n",
    "\n",
    "\n",
    "def word_cluster(data, labels, k):\n",
    "    k_means = cluster.KMeans(n_clusters=2)\n",
    "    k_means.fit(data)\n",
    "    for i, label in enumerate(labels):\n",
    "        print(label, k_means.labels_[i])\n",
    "\n",
    "    d = defaultdict(list)\n",
    "    for c, l in zip(k_means.labels_, labels):\n",
    "        d['cluster' + str(c)].append(l.name())\n",
    "        print(json.dumps(d, indent=True))\n",
    "\n",
    "if __name__ == \"__main__\":\n",
    "    data, labels = make_data_using_wordnet(words)\n",
    "    word_cluster(data, labels, k=2)"
   ]
  },
  {
   "cell_type": "code",
   "execution_count": 10,
   "metadata": {},
   "outputs": [],
   "source": [
    "from nltk.corpus import wordnet as wn\n",
    "\n",
    "dog = wn.synsets('dog', pos=wn.NOUN)[0]\n",
    "cat = wn.synsets('cat', pos=wn.NOUN)[0]\n",
    "rose = wn.synsets('rose', pos=wn.NOUN)[0]\n",
    "flower = wn.synsets('flower', pos=wn.NOUN)[0]"
   ]
  },
  {
   "cell_type": "code",
   "execution_count": 12,
   "metadata": {},
   "outputs": [
    {
     "data": {
      "text/plain": [
       "6.0283161048744525"
      ]
     },
     "execution_count": 12,
     "metadata": {},
     "output_type": "execute_result"
    }
   ],
   "source": [
    "from nltk.corpus import wordnet_ic\n",
    "\n",
    "brown_ic = wordnet_ic.ic('ic-brown.dat')\n",
    "rose.res_similarity(flower, brown_ic)"
   ]
  },
  {
   "cell_type": "code",
   "execution_count": 13,
   "metadata": {},
   "outputs": [
    {
     "data": {
      "text/plain": [
       "2.2241504712318556"
      ]
     },
     "execution_count": 13,
     "metadata": {},
     "output_type": "execute_result"
    }
   ],
   "source": [
    "rose.res_similarity(dog, brown_ic)"
   ]
  },
  {
   "cell_type": "code",
   "execution_count": 14,
   "metadata": {},
   "outputs": [
    {
     "data": {
      "text/plain": [
       "7.911666509036577"
      ]
     },
     "execution_count": 14,
     "metadata": {},
     "output_type": "execute_result"
    }
   ],
   "source": [
    "cat.res_similarity(dog, brown_ic)"
   ]
  },
  {
   "cell_type": "code",
   "execution_count": 21,
   "metadata": {},
   "outputs": [
    {
     "name": "stdout",
     "output_type": "stream",
     "text": [
      "cluster  0 :\n",
      "\tsentence  0 :  We should protect the trees\n",
      "\tsentence  1 :  Fruit trees provide fruits\n",
      "cluster  1 :\n",
      "\tsentence  0 :  I like green apples\n",
      "\tsentence  1 :  Green apples are tasty\n",
      "cluster  2 :\n",
      "\tsentence  0 :  Nature is beautiful\n"
     ]
    }
   ],
   "source": [
    "import collections\n",
    "from nltk import word_tokenize\n",
    "from nltk.corpus import stopwords\n",
    "from nltk.stem import PorterStemmer\n",
    "from sklearn.cluster import KMeans\n",
    "from sklearn.feature_extraction.text import TfidfVectorizer\n",
    "from pprint import pprint\n",
    "\n",
    "\n",
    "def word_tokenizer(text):\n",
    "        #tokenizes and stems the text\n",
    "        tokens = word_tokenize(text)\n",
    "        stemmer = PorterStemmer()\n",
    "        tokens = [stemmer.stem(t) for t in tokens if t not in stopwords.words('english')]\n",
    "        return tokens\n",
    "\n",
    "\n",
    "def cluster_sentences(sentences, nb_of_clusters=5):\n",
    "        tfidf_vectorizer = TfidfVectorizer(tokenizer=word_tokenizer,\n",
    "                                        stop_words=stopwords.words('english'),\n",
    "                                        max_df=0.9,\n",
    "                                        min_df=0.1,\n",
    "                                        lowercase=True)\n",
    "        #builds a tf-idf matrix for the sentences\n",
    "        tfidf_matrix = tfidf_vectorizer.fit_transform(sentences)\n",
    "        kmeans = KMeans(n_clusters=nb_of_clusters)\n",
    "        kmeans.fit(tfidf_matrix)\n",
    "        clusters = collections.defaultdict(list)\n",
    "        for i, label in enumerate(kmeans.labels_):\n",
    "                clusters[label].append(i)\n",
    "        return dict(clusters)\n",
    "\n",
    "\n",
    "if __name__ == \"__main__\":\n",
    "        sentences = [\"Nature is beautiful\",\"I like green apples\",\n",
    "                \"We should protect the trees\",\"Fruit trees provide fruits\",\n",
    "                \"Green apples are tasty\"]\n",
    "        nclusters= 3\n",
    "        clusters = cluster_sentences(sentences, nclusters)\n",
    "        for cluster in range(nclusters):\n",
    "                print (\"cluster \",cluster,\":\")\n",
    "                for i,sentence in enumerate(clusters[cluster]):\n",
    "                        print (\"\\tsentence \",i,\": \",sentences[sentence])"
   ]
  },
  {
   "cell_type": "code",
   "execution_count": null,
   "metadata": {
    "collapsed": true
   },
   "outputs": [],
   "source": []
  }
 ],
 "metadata": {
  "kernelspec": {
   "display_name": "Python 3",
   "language": "python",
   "name": "python3"
  },
  "language_info": {
   "codemirror_mode": {
    "name": "ipython",
    "version": 3
   },
   "file_extension": ".py",
   "mimetype": "text/x-python",
   "name": "python",
   "nbconvert_exporter": "python",
   "pygments_lexer": "ipython3",
   "version": "3.6.2"
  }
 },
 "nbformat": 4,
 "nbformat_minor": 2
}
