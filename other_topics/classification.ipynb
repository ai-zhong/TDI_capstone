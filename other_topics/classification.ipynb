{
 "cells": [
  {
   "cell_type": "code",
   "execution_count": 206,
   "metadata": {
    "collapsed": true
   },
   "outputs": [],
   "source": [
    "import pandas as pd \n",
    "import dill\n",
    "%matplotlib inline"
   ]
  },
  {
   "cell_type": "markdown",
   "metadata": {},
   "source": [
    "# TFIDF based clustering \n",
    "\n",
    "- for each company and each patent, convert text desp to numeric scores\n",
    "- if company has multiple patents, its score will be the average score (averaging across patents)\n"
   ]
  },
  {
   "cell_type": "code",
   "execution_count": 8,
   "metadata": {
    "collapsed": true
   },
   "outputs": [],
   "source": [
    "from sklearn.feature_extraction.text import TfidfVectorizer\n",
    "from sklearn.cluster import KMeans\n",
    "from sklearn.metrics import adjusted_rand_score"
   ]
  },
  {
   "cell_type": "code",
   "execution_count": 5,
   "metadata": {},
   "outputs": [],
   "source": [
    "import os\n",
    "\n",
    "code_dir = os.getcwd()\n",
    "data_dir = code_dir.replace('code','data')"
   ]
  },
  {
   "cell_type": "code",
   "execution_count": 11,
   "metadata": {},
   "outputs": [],
   "source": [
    "data = pd.read_csv(data_dir+'/ee_or_matched.csv', index_col=0, dtype='str')"
   ]
  },
  {
   "cell_type": "code",
   "execution_count": 207,
   "metadata": {
    "collapsed": true
   },
   "outputs": [],
   "source": [
    "titles = dill.load(open(data_dir+'/tokened_titles.pkd', 'rb'))"
   ]
  },
  {
   "cell_type": "code",
   "execution_count": 19,
   "metadata": {
    "collapsed": true
   },
   "outputs": [],
   "source": [
    "tickerlist = pd.read_csv(data_dir+'/companytickers.csv')"
   ]
  },
  {
   "cell_type": "code",
   "execution_count": 211,
   "metadata": {},
   "outputs": [
    {
     "data": {
      "text/plain": [
       "1377018"
      ]
     },
     "execution_count": 211,
     "metadata": {},
     "output_type": "execute_result"
    }
   ],
   "source": [
    "len(titles)"
   ]
  },
  {
   "cell_type": "code",
   "execution_count": 25,
   "metadata": {},
   "outputs": [],
   "source": [
    "ticks = list(tickerlist['Ticker'])"
   ]
  },
  {
   "cell_type": "code",
   "execution_count": 212,
   "metadata": {},
   "outputs": [
    {
     "data": {
      "text/plain": [
       "137702"
      ]
     },
     "execution_count": 212,
     "metadata": {},
     "output_type": "execute_result"
    }
   ],
   "source": [
    "data_s = titles.sample(frac=0.1)\n",
    "len(data_s)"
   ]
  },
  {
   "cell_type": "code",
   "execution_count": 38,
   "metadata": {
    "collapsed": true
   },
   "outputs": [],
   "source": [
    "from tqdm import tqdm"
   ]
  },
  {
   "cell_type": "code",
   "execution_count": 70,
   "metadata": {},
   "outputs": [],
   "source": [
    "# data_s[data_s['ticker'] == 'GE']['title'].astype(str)"
   ]
  },
  {
   "cell_type": "code",
   "execution_count": 213,
   "metadata": {
    "scrolled": true
   },
   "outputs": [
    {
     "name": "stderr",
     "output_type": "stream",
     "text": [
      "100%|██████████| 6653/6653 [01:28<00:00, 74.88it/s]\n"
     ]
    }
   ],
   "source": [
    "# each company's patent title combine to one document and then put all\n",
    "# into documents list.\n",
    "documents = []\n",
    "ticker_valid = []\n",
    "for ticker in tqdm(ticks):    \n",
    "    uniq_titles = data_s[data_s[\"ticker\"]==ticker][\"title\"].astype(str)\n",
    "    if len(uniq_titles)>0:\n",
    "        titles = (', '.join(list(uniq_titles)))\n",
    "        documents.append(titles)\n",
    "        ticker_valid.append(ticker)"
   ]
  },
  {
   "cell_type": "code",
   "execution_count": 219,
   "metadata": {},
   "outputs": [
    {
     "data": {
      "text/plain": [
       "465"
      ]
     },
     "execution_count": 219,
     "metadata": {},
     "output_type": "execute_result"
    }
   ],
   "source": [
    "len(documents)"
   ]
  },
  {
   "cell_type": "code",
   "execution_count": 220,
   "metadata": {
    "collapsed": true
   },
   "outputs": [],
   "source": [
    "vectorizer = TfidfVectorizer(ngram_range=(2,2),stop_words='english', max_df=0.7)\n",
    "X = vectorizer.fit_transform(documents)"
   ]
  },
  {
   "cell_type": "markdown",
   "metadata": {},
   "source": [
    "# K Means"
   ]
  },
  {
   "cell_type": "code",
   "execution_count": 221,
   "metadata": {},
   "outputs": [
    {
     "data": {
      "text/plain": [
       "KMeans(algorithm='auto', copy_x=True, init='k-means++', max_iter=100,\n",
       "    n_clusters=4, n_init=1, n_jobs=1, precompute_distances='auto',\n",
       "    random_state=None, tol=0.0001, verbose=0)"
      ]
     },
     "execution_count": 221,
     "metadata": {},
     "output_type": "execute_result"
    }
   ],
   "source": [
    "true_k = 4\n",
    "model = KMeans(n_clusters=true_k, init='k-means++', max_iter=100, n_init=1)\n",
    "model.fit(X)"
   ]
  },
  {
   "cell_type": "code",
   "execution_count": 222,
   "metadata": {},
   "outputs": [],
   "source": [
    "# model by kmeans\n",
    "order_centroids = model.cluster_centers_.argsort()[:,::-10]\n",
    "terms = vectorizer.get_feature_names()\n",
    "cluster = dict()\n",
    "for i in range(true_k):\n",
    "    cluster[i] = [terms[ind] for ind in order_centroids[i, :10]]"
   ]
  },
  {
   "cell_type": "code",
   "execution_count": 223,
   "metadata": {},
   "outputs": [],
   "source": [
    "df2 = pd.DataFrame()\n",
    "df2['ticker'] = ticker_valid\n",
    "df2['cluster'] = model.labels_"
   ]
  },
  {
   "cell_type": "code",
   "execution_count": 224,
   "metadata": {},
   "outputs": [
    {
     "data": {
      "text/plain": [
       "cluster\n",
       "0     13\n",
       "1    326\n",
       "2    107\n",
       "3     19\n",
       "dtype: int64"
      ]
     },
     "execution_count": 224,
     "metadata": {},
     "output_type": "execute_result"
    }
   ],
   "source": [
    "clustered = df2.sort_values(by='cluster')\n",
    "clustered.groupby('cluster').size()"
   ]
  },
  {
   "cell_type": "code",
   "execution_count": 225,
   "metadata": {},
   "outputs": [],
   "source": [
    "cluster0_tickers_km = list(df2[df2['cluster'] == 0]['ticker'])\n",
    "cluster1_tickers_km = list(df2[df2['cluster'] == 1]['ticker'])\n",
    "cluster2_tickers_km = list(df2[df2['cluster'] == 2]['ticker'])\n",
    "cluster3_tickers_km = list(df2[df2['cluster'] == 3]['ticker'])"
   ]
  },
  {
   "cell_type": "code",
   "execution_count": 227,
   "metadata": {},
   "outputs": [],
   "source": [
    "clusters=[cluster0_tickers_km, cluster1_tickers_km, cluster2_tickers_km, cluster3_tickers_km]"
   ]
  },
  {
   "cell_type": "code",
   "execution_count": 228,
   "metadata": {},
   "outputs": [],
   "source": [
    "dill.dump(clusters, open('clusters_kmeans_tokened.pkd', 'wb'))"
   ]
  },
  {
   "cell_type": "code",
   "execution_count": 226,
   "metadata": {},
   "outputs": [
    {
     "data": {
      "text/plain": [
       "{0: ['methods systems',\n",
       "  'feeder programming',\n",
       "  'systems dynamic',\n",
       "  'entities interface',\n",
       "  'mapped sensor',\n",
       "  'sulfide ores',\n",
       "  'monitoring defense',\n",
       "  'wireless sound',\n",
       "  'including arsenic',\n",
       "  'values including'],\n",
       " 1: ['method apparatus',\n",
       "  'use thereof',\n",
       "  'method providing',\n",
       "  'methods using',\n",
       "  'power supply',\n",
       "  'devices systems',\n",
       "  'method fabricating',\n",
       "  'composition method',\n",
       "  'structure method',\n",
       "  'mobile device'],\n",
       " 2: ['fpd aircraft',\n",
       "  'alfalfa variety',\n",
       "  'cantilever array',\n",
       "  'compounds antibacterial',\n",
       "  'function tester',\n",
       "  'lipid rafts',\n",
       "  'receipt management',\n",
       "  'centralizing lock',\n",
       "  'units transaction',\n",
       "  'exhibit display'],\n",
       " 3: ['fuel cell',\n",
       "  'oxide fuel',\n",
       "  'function heat',\n",
       "  'electric power',\n",
       "  'designs assembly',\n",
       "  'magnetic recording',\n",
       "  'assembly method',\n",
       "  'tool retractable',\n",
       "  'gas continuous',\n",
       "  'ash solids']}"
      ]
     },
     "execution_count": 226,
     "metadata": {},
     "output_type": "execute_result"
    }
   ],
   "source": [
    "cluster"
   ]
  },
  {
   "cell_type": "markdown",
   "metadata": {},
   "source": [
    "# affinity propagation"
   ]
  },
  {
   "cell_type": "code",
   "execution_count": 196,
   "metadata": {},
   "outputs": [
    {
     "data": {
      "text/plain": [
       "4"
      ]
     },
     "execution_count": 196,
     "metadata": {},
     "output_type": "execute_result"
    }
   ],
   "source": [
    "from sklearn.cluster import AffinityPropagation\n",
    "\n",
    "ap = AffinityPropagation(damping=0.5, preference=-3.6)\n",
    "ap.fit(X)\n",
    "\n",
    "len(ap.cluster_centers_indices_)"
   ]
  },
  {
   "cell_type": "code",
   "execution_count": 205,
   "metadata": {},
   "outputs": [
    {
     "name": "stdout",
     "output_type": "stream",
     "text": [
      "12 antibodies 2write register 360 discharge 91348793299 rubber\n"
     ]
    }
   ],
   "source": [
    "ap.cluster_centers_indices_\n",
    "print(terms[52],\n",
    "    terms[218],\n",
    "    terms[233],\n",
    "    terms[467])"
   ]
  },
  {
   "cell_type": "code",
   "execution_count": 197,
   "metadata": {},
   "outputs": [],
   "source": [
    "# from affinity propagation model\n",
    "df = pd.DataFrame()\n",
    "df['ticker'] = ticker_valid\n",
    "df['cluster'] = ap.labels_"
   ]
  },
  {
   "cell_type": "code",
   "execution_count": 198,
   "metadata": {},
   "outputs": [
    {
     "data": {
      "text/plain": [
       "cluster\n",
       "0     83\n",
       "1      8\n",
       "2    301\n",
       "3     76\n",
       "dtype: int64"
      ]
     },
     "execution_count": 198,
     "metadata": {},
     "output_type": "execute_result"
    }
   ],
   "source": [
    "# from affinity propagation model\n",
    "df.groupby('cluster').size()"
   ]
  },
  {
   "cell_type": "code",
   "execution_count": 199,
   "metadata": {},
   "outputs": [],
   "source": [
    "cluster0_tickers_ap = list(df[df['cluster'] == 0]['ticker'])\n",
    "cluster1_tickers_ap = list(df[df['cluster'] == 1]['ticker'])\n",
    "cluster2_tickers_ap = list(df[df['cluster'] == 2]['ticker'])\n",
    "cluster3_tickers_ap = list(df[df['cluster'] == 3]['ticker'])"
   ]
  },
  {
   "cell_type": "markdown",
   "metadata": {},
   "source": [
    "# others"
   ]
  },
  {
   "cell_type": "code",
   "execution_count": 147,
   "metadata": {
    "collapsed": true
   },
   "outputs": [],
   "source": [
    "companylist=pd.read_csv('companylist.csv', index_col=0)\n",
    "companylist = companylist.rename(columns={'Symbol':'ticker'})\n",
    "mergedlist = pd.merge(df, companylist, on='ticker', how='inner' )\n",
    "tickerlist = list(mergedlist[mergedlist['cluster']==0]['ticker'].unique())"
   ]
  },
  {
   "cell_type": "code",
   "execution_count": 148,
   "metadata": {
    "collapsed": true
   },
   "outputs": [],
   "source": [
    "titles = []\n",
    "\n",
    "for ticker in tickerlist:\n",
    "    title = list(set(df_sector[df_sector['ticker']==ticker]['title']))\n",
    "    titles.append(title)"
   ]
  },
  {
   "cell_type": "code",
   "execution_count": 198,
   "metadata": {
    "collapsed": true
   },
   "outputs": [],
   "source": []
  },
  {
   "cell_type": "code",
   "execution_count": 199,
   "metadata": {
    "collapsed": true
   },
   "outputs": [],
   "source": []
  },
  {
   "cell_type": "code",
   "execution_count": 200,
   "metadata": {
    "collapsed": true
   },
   "outputs": [],
   "source": [
    "\n",
    "\n"
   ]
  },
  {
   "cell_type": "code",
   "execution_count": null,
   "metadata": {
    "collapsed": true
   },
   "outputs": [],
   "source": []
  }
 ],
 "metadata": {
  "kernelspec": {
   "display_name": "Python 3",
   "language": "python",
   "name": "python3"
  },
  "language_info": {
   "codemirror_mode": {
    "name": "ipython",
    "version": 3
   },
   "file_extension": ".py",
   "mimetype": "text/x-python",
   "name": "python",
   "nbconvert_exporter": "python",
   "pygments_lexer": "ipython3",
   "version": "3.6.2"
  }
 },
 "nbformat": 4,
 "nbformat_minor": 2
}
