{
 "cells": [
  {
   "cell_type": "markdown",
   "metadata": {},
   "source": [
    "# Second Stage 2\n",
    "\n",
    "In this stage, mainly conducted topic modeling study using Gensim on a sample size of the original data. As we used t-SNE to reduce feature dimension, sample size is limited due to the processing time. Maybe other method should be considered if the data size is big or should break down data into chunks for easier processing.\n",
    "\n",
    "*Major difference with second stage: focusing on one sector's topic instead of everything*"
   ]
  },
  {
   "cell_type": "code",
   "execution_count": 7,
   "metadata": {
    "collapsed": true
   },
   "outputs": [],
   "source": [
    "import warnings\n",
    "import gensim\n",
    "import logging\n",
    "import dill \n",
    "import os\n",
    "import pandas as pd\n",
    "import numpy as np\n",
    "import bokeh.plotting as bp\n",
    "import random\n",
    "\n",
    "from gensim import corpora, models\n",
    "from sklearn.feature_extraction.text import TfidfVectorizer\n",
    "from sklearn.feature_extraction.text import CountVectorizer\n",
    "from sklearn.decomposition import PCA\n",
    "from sklearn.manifold import TSNE\n",
    "from bokeh.models import HoverTool, BoxSelectTool\n",
    "from bokeh.plotting import figure, show, output_notebook\n",
    "from collections import Counter\n",
    "\n",
    "warnings.filterwarnings(\"ignore\", category=DeprecationWarning)\n",
    "logging.getLogger(\"lda\").setLevel(logging.WARNING)\n",
    "code_dir = os.getcwd()\n",
    "data_dir = code_dir.replace('code', 'data')"
   ]
  },
  {
   "cell_type": "code",
   "execution_count": 2,
   "metadata": {},
   "outputs": [
    {
     "data": {
      "text/plain": [
       "(395873, 8)"
      ]
     },
     "execution_count": 2,
     "metadata": {},
     "output_type": "execute_result"
    }
   ],
   "source": [
    "sub_body = dill.load(open(data_dir+'/#patent_title_lemma.pkd', 'rb'))\n",
    "\n",
    "tokens = sub_body['title_lemma'].tolist()\n",
    "titles = []\n",
    "for token in tokens:\n",
    "    titles.append(' '.join(token))\n",
    "\n",
    "sub_body['title_lemma'] = titles\n",
    "sub_body = sub_body.drop_duplicates(subset='title_lemma')\n",
    "sub_body = sub_body.dropna(subset=['sector'])\n",
    "sub_body.shape"
   ]
  },
  {
   "cell_type": "code",
   "execution_count": 3,
   "metadata": {},
   "outputs": [
    {
     "data": {
      "text/plain": [
       "{'Consumer Cyclicals',\n",
       " 'Consumer Staples',\n",
       " 'Energy',\n",
       " 'Financials',\n",
       " 'Healthcare',\n",
       " 'Industrials',\n",
       " 'Information Technology',\n",
       " 'Raw & Intermediate Materials',\n",
       " 'Telecom Services',\n",
       " 'Utilities'}"
      ]
     },
     "execution_count": 3,
     "metadata": {},
     "output_type": "execute_result"
    }
   ],
   "source": [
    "set(sub_body['sector'])"
   ]
  },
  {
   "cell_type": "code",
   "execution_count": 4,
   "metadata": {},
   "outputs": [
    {
     "data": {
      "text/plain": [
       "(86222, 8)"
      ]
     },
     "execution_count": 4,
     "metadata": {},
     "output_type": "execute_result"
    }
   ],
   "source": [
    "# set the sub dataframe that you want to focus on\n",
    "chosen = 'Information Technology'\n",
    "sub_body1 = sub_body[sub_body['sector'] == chosen]\n",
    "sub_body2 = sub_body1[sub_body1['exec_dt']>'2010-01-01']\n",
    "sub_body2.shape"
   ]
  },
  {
   "cell_type": "code",
   "execution_count": 5,
   "metadata": {},
   "outputs": [
    {
     "data": {
      "text/html": [
       "<div>\n",
       "<style>\n",
       "    .dataframe thead tr:only-child th {\n",
       "        text-align: right;\n",
       "    }\n",
       "\n",
       "    .dataframe thead th {\n",
       "        text-align: left;\n",
       "    }\n",
       "\n",
       "    .dataframe tbody tr th {\n",
       "        vertical-align: top;\n",
       "    }\n",
       "</style>\n",
       "<table border=\"1\" class=\"dataframe\">\n",
       "  <thead>\n",
       "    <tr style=\"text-align: right;\">\n",
       "      <th></th>\n",
       "      <th>exec_dt</th>\n",
       "      <th>or_name</th>\n",
       "      <th>title</th>\n",
       "      <th>ee_name_matched</th>\n",
       "      <th>ticker</th>\n",
       "      <th>sector</th>\n",
       "      <th>title_stem</th>\n",
       "      <th>title_lemma</th>\n",
       "    </tr>\n",
       "  </thead>\n",
       "  <tbody>\n",
       "    <tr>\n",
       "      <th>4132</th>\n",
       "      <td>2010-01-12</td>\n",
       "      <td>FULKERSON, TERRENCE M.</td>\n",
       "      <td>[pump, throat]</td>\n",
       "      <td>NORDSON CORPORATION</td>\n",
       "      <td>NDSN</td>\n",
       "      <td>Information Technology</td>\n",
       "      <td>[pump, throat]</td>\n",
       "      <td>pump throat</td>\n",
       "    </tr>\n",
       "    <tr>\n",
       "      <th>4138</th>\n",
       "      <td>2010-01-12</td>\n",
       "      <td>FULKERSON, TERRENCE M.</td>\n",
       "      <td>[pump, injector]</td>\n",
       "      <td>NORDSON CORPORATION</td>\n",
       "      <td>NDSN</td>\n",
       "      <td>Information Technology</td>\n",
       "      <td>[pump, injector]</td>\n",
       "      <td>pump injector</td>\n",
       "    </tr>\n",
       "    <tr>\n",
       "      <th>4174</th>\n",
       "      <td>2010-06-10</td>\n",
       "      <td>GAON, MARTIN, MR.</td>\n",
       "      <td>[adhesive, sensor, hot, melt, liquid, adhesives]</td>\n",
       "      <td>NORDSON CORPORATION</td>\n",
       "      <td>NDSN</td>\n",
       "      <td>Information Technology</td>\n",
       "      <td>[adhes, sensor, hot, melt, liquid, adhes]</td>\n",
       "      <td>adhesive sensor hot melt liquid adhesive</td>\n",
       "    </tr>\n",
       "    <tr>\n",
       "      <th>4176</th>\n",
       "      <td>2010-07-01</td>\n",
       "      <td>BONDESON, BENJAMIN J.</td>\n",
       "      <td>[cover, adhesive, dispensing, gun]</td>\n",
       "      <td>NORDSON CORPORATION</td>\n",
       "      <td>NDSN</td>\n",
       "      <td>Information Technology</td>\n",
       "      <td>[cover, adhes, dispens, gun]</td>\n",
       "      <td>cover adhesive dispensing gun</td>\n",
       "    </tr>\n",
       "    <tr>\n",
       "      <th>4184</th>\n",
       "      <td>2010-07-01</td>\n",
       "      <td>BONDESON, BENJAMIN J.</td>\n",
       "      <td>[thermally, insulated, applicator]</td>\n",
       "      <td>NORDSON CORPORATION</td>\n",
       "      <td>NDSN</td>\n",
       "      <td>Information Technology</td>\n",
       "      <td>[thermal, insul, applic]</td>\n",
       "      <td>thermally insulated applicator</td>\n",
       "    </tr>\n",
       "  </tbody>\n",
       "</table>\n",
       "</div>"
      ],
      "text/plain": [
       "         exec_dt                 or_name  \\\n",
       "4132  2010-01-12  FULKERSON, TERRENCE M.   \n",
       "4138  2010-01-12  FULKERSON, TERRENCE M.   \n",
       "4174  2010-06-10       GAON, MARTIN, MR.   \n",
       "4176  2010-07-01   BONDESON, BENJAMIN J.   \n",
       "4184  2010-07-01   BONDESON, BENJAMIN J.   \n",
       "\n",
       "                                                 title      ee_name_matched  \\\n",
       "4132                                    [pump, throat]  NORDSON CORPORATION   \n",
       "4138                                  [pump, injector]  NORDSON CORPORATION   \n",
       "4174  [adhesive, sensor, hot, melt, liquid, adhesives]  NORDSON CORPORATION   \n",
       "4176                [cover, adhesive, dispensing, gun]  NORDSON CORPORATION   \n",
       "4184                [thermally, insulated, applicator]  NORDSON CORPORATION   \n",
       "\n",
       "     ticker                  sector  \\\n",
       "4132   NDSN  Information Technology   \n",
       "4138   NDSN  Information Technology   \n",
       "4174   NDSN  Information Technology   \n",
       "4176   NDSN  Information Technology   \n",
       "4184   NDSN  Information Technology   \n",
       "\n",
       "                                     title_stem  \\\n",
       "4132                             [pump, throat]   \n",
       "4138                           [pump, injector]   \n",
       "4174  [adhes, sensor, hot, melt, liquid, adhes]   \n",
       "4176               [cover, adhes, dispens, gun]   \n",
       "4184                   [thermal, insul, applic]   \n",
       "\n",
       "                                   title_lemma  \n",
       "4132                               pump throat  \n",
       "4138                             pump injector  \n",
       "4174  adhesive sensor hot melt liquid adhesive  \n",
       "4176             cover adhesive dispensing gun  \n",
       "4184            thermally insulated applicator  "
      ]
     },
     "execution_count": 5,
     "metadata": {},
     "output_type": "execute_result"
    }
   ],
   "source": [
    "sub_body2.head()"
   ]
  },
  {
   "cell_type": "code",
   "execution_count": 6,
   "metadata": {},
   "outputs": [],
   "source": [
    "title_list = sub_body2['title_lemma'].tolist()"
   ]
  },
  {
   "cell_type": "code",
   "execution_count": 9,
   "metadata": {
    "collapsed": true
   },
   "outputs": [],
   "source": [
    "title_tokens = [s.split(' ') for s in title_list]"
   ]
  },
  {
   "cell_type": "code",
   "execution_count": 12,
   "metadata": {},
   "outputs": [],
   "source": [
    "# based on different data size, adjust parameters to make result more reasonable\n",
    "\n",
    "# cvectorizer = CountVectorizer(min_df=1, max_df=8000, max_features=20000, ngram_range=(3,3))\n",
    "# cvz = cvectorizer.fit_transform(sub_body2['title_lemma'])\n",
    "\n",
    "# n_topics = 20\n",
    "# n_iter = 1000\n",
    "# lda_model = lda.LDA(n_topics=n_topics, n_iter=n_iter)\n",
    "# X_topics = lda_model.fit_transform(cvz)\n",
    "\n",
    "dictionary = corpora.Dictionary(title_tokens)\n",
    "corpus = [dictionary.doc2bow(doc) for doc in title_tokens]\n",
    "ldamodel = gensim.models.ldamodel.LdaModel(corpus, num_topics=20,\n",
    "                                          id2word=dictionary, passes=50)"
   ]
  },
  {
   "cell_type": "code",
   "execution_count": 23,
   "metadata": {},
   "outputs": [
    {
     "data": {
      "text/plain": [
       "[(18,\n",
       "  '0.092*\"test\" + 0.079*\"memory\" + 0.035*\"cell\" + 0.028*\"search\" + 0.026*\"equipment\" + 0.023*\"probe\" + 0.021*\"parametric\" + 0.021*\"using\" + 0.021*\"error\" + 0.020*\"camera\"')]"
      ]
     },
     "execution_count": 23,
     "metadata": {},
     "output_type": "execute_result"
    }
   ],
   "source": [
    "ldamodel.show_topics(num_topics=1)"
   ]
  },
  {
   "cell_type": "code",
   "execution_count": 24,
   "metadata": {},
   "outputs": [
    {
     "data": {
      "text/plain": [
       "[(0,\n",
       "  '0.034*\"event\" + 0.031*\"module\" + 0.031*\"notification\" + 0.031*\"key\" + 0.027*\"monitoring\" + 0.019*\"variable\" + 0.019*\"messaging\" + 0.019*\"displaying\" + 0.018*\"distribution\" + 0.017*\"utilizing\"'),\n",
       " (1,\n",
       "  '0.110*\"display\" + 0.071*\"optical\" + 0.043*\"testing\" + 0.037*\"controlling\" + 0.036*\"antenna\" + 0.021*\"link\" + 0.021*\"configuration\" + 0.020*\"programmable\" + 0.017*\"receiver\" + 0.017*\"machine\"'),\n",
       " (2,\n",
       "  '0.041*\"access\" + 0.035*\"data\" + 0.031*\"file\" + 0.026*\"routing\" + 0.025*\"transfer\" + 0.021*\"memory\" + 0.020*\"processor\" + 0.020*\"group\" + 0.017*\"pattern\" + 0.017*\"using\"'),\n",
       " (3,\n",
       "  '0.214*\"device\" + 0.113*\"electronic\" + 0.105*\"method\" + 0.031*\"related\" + 0.022*\"including\" + 0.020*\"portable\" + 0.019*\"assembly\" + 0.016*\"associated\" + 0.016*\"tester\" + 0.013*\"sensing\"'),\n",
       " (4,\n",
       "  '0.043*\"low\" + 0.039*\"high\" + 0.034*\"adaptive\" + 0.031*\"protocol\" + 0.028*\"battery\" + 0.025*\"rate\" + 0.024*\"remote\" + 0.023*\"control\" + 0.022*\"efficient\" + 0.017*\"point\"'),\n",
       " (5,\n",
       "  '0.083*\"management\" + 0.044*\"radio\" + 0.030*\"audio\" + 0.029*\"frequency\" + 0.026*\"architecture\" + 0.025*\"electrical\" + 0.022*\"phase\" + 0.018*\"type\" + 0.018*\"cellular\" + 0.017*\"telecommunication\"'),\n",
       " (6,\n",
       "  '0.056*\"power\" + 0.050*\"message\" + 0.042*\"handheld\" + 0.040*\"signal\" + 0.030*\"input\" + 0.026*\"mode\" + 0.021*\"security\" + 0.019*\"voltage\" + 0.016*\"control\" + 0.015*\"current\"'),\n",
       " (7,\n",
       "  '0.042*\"device\" + 0.036*\"structure\" + 0.031*\"method\" + 0.028*\"contact\" + 0.026*\"layer\" + 0.026*\"via\" + 0.024*\"semiconductor\" + 0.021*\"performance\" + 0.020*\"improved\" + 0.018*\"channel\"'),\n",
       " (8,\n",
       "  '0.064*\"medium\" + 0.044*\"sensor\" + 0.039*\"object\" + 0.031*\"switching\" + 0.029*\"analysis\" + 0.029*\"filter\" + 0.028*\"code\" + 0.027*\"using\" + 0.022*\"tracking\" + 0.021*\"function\"'),\n",
       " (9,\n",
       "  '0.131*\"application\" + 0.047*\"call\" + 0.035*\"social\" + 0.031*\"network\" + 0.020*\"voice\" + 0.020*\"query\" + 0.019*\"imaging\" + 0.018*\"using\" + 0.017*\"route\" + 0.015*\"matching\"'),\n",
       " (10,\n",
       "  '0.051*\"detection\" + 0.037*\"automatic\" + 0.035*\"time\" + 0.029*\"location\" + 0.027*\"field\" + 0.025*\"measurement\" + 0.024*\"enhanced\" + 0.024*\"based\" + 0.024*\"station\" + 0.022*\"traffic\"'),\n",
       " (11,\n",
       "  '0.124*\"communication\" + 0.110*\"device\" + 0.093*\"network\" + 0.089*\"mobile\" + 0.069*\"wireless\" + 0.064*\"data\" + 0.040*\"providing\" + 0.029*\"information\" + 0.021*\"storage\" + 0.017*\"transmission\"'),\n",
       " (12,\n",
       "  '0.086*\"service\" + 0.043*\"environment\" + 0.042*\"computing\" + 0.040*\"selection\" + 0.033*\"server\" + 0.025*\"fixture\" + 0.025*\"board\" + 0.023*\"web\" + 0.022*\"switch\" + 0.018*\"interaction\"'),\n",
       " (13,\n",
       "  '0.143*\"circuit\" + 0.079*\"integrated\" + 0.028*\"automated\" + 0.021*\"ic\" + 0.017*\"hybrid\" + 0.017*\"connector\" + 0.017*\"profile\" + 0.016*\"plurality\" + 0.013*\"printed\" + 0.013*\"embedded\"'),\n",
       " (14,\n",
       "  '0.079*\"content\" + 0.065*\"image\" + 0.037*\"managing\" + 0.035*\"component\" + 0.032*\"video\" + 0.030*\"data\" + 0.030*\"source\" + 0.024*\"mechanism\" + 0.021*\"feature\" + 0.020*\"connection\"'),\n",
       " (15,\n",
       "  '0.061*\"technique\" + 0.051*\"digital\" + 0.028*\"generation\" + 0.026*\"authentication\" + 0.024*\"using\" + 0.022*\"local\" + 0.022*\"data\" + 0.021*\"optimization\" + 0.020*\"frame\" + 0.019*\"recovery\"'),\n",
       " (16,\n",
       "  '0.115*\"user\" + 0.082*\"interface\" + 0.044*\"virtual\" + 0.030*\"based\" + 0.026*\"light\" + 0.023*\"facilitating\" + 0.018*\"calibration\" + 0.015*\"card\" + 0.014*\"input\" + 0.014*\"graphical\"'),\n",
       " (17,\n",
       "  '0.046*\"resource\" + 0.041*\"element\" + 0.036*\"distributed\" + 0.030*\"text\" + 0.030*\"synchronization\" + 0.029*\"state\" + 0.026*\"sharing\" + 0.024*\"data\" + 0.023*\"shared\" + 0.022*\"unit\"'),\n",
       " (18,\n",
       "  '0.092*\"test\" + 0.079*\"memory\" + 0.035*\"cell\" + 0.028*\"search\" + 0.026*\"equipment\" + 0.023*\"probe\" + 0.021*\"parametric\" + 0.021*\"using\" + 0.021*\"error\" + 0.020*\"camera\"'),\n",
       " (19,\n",
       "  '0.332*\"method\" + 0.296*\"system\" + 0.112*\"apparatus\" + 0.019*\"computer\" + 0.011*\"program\" + 0.008*\"product\" + 0.008*\"associated\" + 0.008*\"software\" + 0.008*\"keyboard\" + 0.006*\"identifying\"')]"
      ]
     },
     "execution_count": 24,
     "metadata": {},
     "output_type": "execute_result"
    }
   ],
   "source": [
    "ldamodel.print_topics(num_topics=20)"
   ]
  },
  {
   "cell_type": "code",
   "execution_count": 98,
   "metadata": {
    "collapsed": true
   },
   "outputs": [],
   "source": [
    "n_top_words = 10\n",
    "topic_summaries = []\n",
    "\n",
    "topic_word = lda_model.topic_word_  # get the topic words\n",
    "vocab = cvectorizer.get_feature_names()\n",
    "\n",
    "for i, topic_dist in enumerate(topic_word):\n",
    "    topic_words = np.array(vocab)[np.argsort(topic_dist)][:-(n_top_words+1):-1]\n",
    "    topic_summaries.append(', '.join(topic_words))"
   ]
  },
  {
   "cell_type": "code",
   "execution_count": 8,
   "metadata": {
    "collapsed": true
   },
   "outputs": [],
   "source": [
    "# with open(\"file.txt\", \"w\") as output:\n",
    "#     output.write(str(topic_summaries))"
   ]
  },
  {
   "cell_type": "code",
   "execution_count": 99,
   "metadata": {
    "collapsed": true
   },
   "outputs": [],
   "source": [
    "tsne_model = TSNE(n_components=2, random_state=0, learning_rate=30, \n",
    "                  n_iter=300, angle=0.8, init='pca')\n",
    "tsne_lda = tsne_model.fit_transform(X_topics)"
   ]
  },
  {
   "cell_type": "code",
   "execution_count": 10,
   "metadata": {
    "collapsed": true
   },
   "outputs": [],
   "source": [
    "doc_topic = lda_model.doc_topic_\n",
    "lda_keys = []\n",
    "for i, tweet in enumerate(sub_body2['title']):\n",
    "    lda_keys += [doc_topic[i].argmax()]"
   ]
  },
  {
   "cell_type": "code",
   "execution_count": null,
   "metadata": {
    "collapsed": true
   },
   "outputs": [],
   "source": [
    "# plot_lda = bp.figure(plot_width=700, plot_height=600, title=\"LDA topic visualization\",\n",
    "#     tools=\"pan,wheel_zoom,box_zoom,reset,hover,previewsave\",\n",
    "#     x_axis_type=None, y_axis_type=None, min_border=1)"
   ]
  },
  {
   "cell_type": "code",
   "execution_count": 91,
   "metadata": {},
   "outputs": [
    {
     "data": {
      "text/plain": [
       "Counter({0: 65111,\n",
       "         1: 1105,\n",
       "         2: 1332,\n",
       "         3: 1263,\n",
       "         4: 1054,\n",
       "         5: 1219,\n",
       "         6: 1254,\n",
       "         7: 1237,\n",
       "         8: 1249,\n",
       "         9: 1125,\n",
       "         10: 1170,\n",
       "         11: 1101,\n",
       "         12: 986,\n",
       "         13: 969,\n",
       "         14: 1074,\n",
       "         15: 1049,\n",
       "         16: 765,\n",
       "         17: 1050,\n",
       "         18: 1025,\n",
       "         19: 1084})"
      ]
     },
     "execution_count": 91,
     "metadata": {},
     "output_type": "execute_result"
    }
   ],
   "source": [
    "Counter(lda_keys)"
   ]
  },
  {
   "cell_type": "code",
   "execution_count": 11,
   "metadata": {},
   "outputs": [
    {
     "data": {
      "text/html": [
       "<div>\n",
       "<style>\n",
       "    .dataframe thead tr:only-child th {\n",
       "        text-align: right;\n",
       "    }\n",
       "\n",
       "    .dataframe thead th {\n",
       "        text-align: left;\n",
       "    }\n",
       "\n",
       "    .dataframe tbody tr th {\n",
       "        vertical-align: top;\n",
       "    }\n",
       "</style>\n",
       "<table border=\"1\" class=\"dataframe\">\n",
       "  <thead>\n",
       "    <tr style=\"text-align: right;\">\n",
       "      <th></th>\n",
       "      <th>x</th>\n",
       "      <th>y</th>\n",
       "      <th>title</th>\n",
       "      <th>ticker</th>\n",
       "      <th>topic</th>\n",
       "    </tr>\n",
       "  </thead>\n",
       "  <tbody>\n",
       "    <tr>\n",
       "      <th>0</th>\n",
       "      <td>0.276429</td>\n",
       "      <td>0.487958</td>\n",
       "      <td>pump throat</td>\n",
       "      <td>NDSN</td>\n",
       "      <td>0</td>\n",
       "    </tr>\n",
       "    <tr>\n",
       "      <th>1</th>\n",
       "      <td>0.276429</td>\n",
       "      <td>0.487958</td>\n",
       "      <td>pump injector</td>\n",
       "      <td>NDSN</td>\n",
       "      <td>0</td>\n",
       "    </tr>\n",
       "    <tr>\n",
       "      <th>2</th>\n",
       "      <td>0.276429</td>\n",
       "      <td>0.487958</td>\n",
       "      <td>adhesive sensor hot melt liquid adhesive</td>\n",
       "      <td>NDSN</td>\n",
       "      <td>0</td>\n",
       "    </tr>\n",
       "    <tr>\n",
       "      <th>3</th>\n",
       "      <td>0.276429</td>\n",
       "      <td>0.487958</td>\n",
       "      <td>cover adhesive dispensing gun</td>\n",
       "      <td>NDSN</td>\n",
       "      <td>0</td>\n",
       "    </tr>\n",
       "    <tr>\n",
       "      <th>4</th>\n",
       "      <td>0.276429</td>\n",
       "      <td>0.487958</td>\n",
       "      <td>thermally insulated applicator</td>\n",
       "      <td>NDSN</td>\n",
       "      <td>0</td>\n",
       "    </tr>\n",
       "  </tbody>\n",
       "</table>\n",
       "</div>"
      ],
      "text/plain": [
       "          x         y                                     title ticker  topic\n",
       "0  0.276429  0.487958                               pump throat   NDSN      0\n",
       "1  0.276429  0.487958                             pump injector   NDSN      0\n",
       "2  0.276429  0.487958  adhesive sensor hot melt liquid adhesive   NDSN      0\n",
       "3  0.276429  0.487958             cover adhesive dispensing gun   NDSN      0\n",
       "4  0.276429  0.487958            thermally insulated applicator   NDSN      0"
      ]
     },
     "execution_count": 11,
     "metadata": {},
     "output_type": "execute_result"
    }
   ],
   "source": [
    "lda_df = pd.DataFrame(tsne_lda, columns=['x','y'])\n",
    "lda_df['title'] = sub_body2['title_lemma'].tolist()\n",
    "lda_df['ticker'] = sub_body2['ticker'].tolist()\n",
    "lda_df['topic'] = lda_keys\n",
    "lda_df['topic'] = lda_df['topic'].map(int)\n",
    "lda_df.head()"
   ]
  },
  {
   "cell_type": "code",
   "execution_count": 12,
   "metadata": {
    "collapsed": true
   },
   "outputs": [],
   "source": [
    "colormap = np.array([\"#6d8dca\", \"#69de53\", \"#723bca\", \"#c3e14c\", \"#c84dc9\", \"#68af4e\", \"#6e6cd5\",\n",
    "\"#e3be38\", \"#4e2d7c\", \"#5fdfa8\", \"#d34690\", \"#3f6d31\", \"#d44427\", \"#7fcdd8\", \"#cb4053\", \"#5e9981\",\n",
    "\"#803a62\", \"#9b9e39\", \"#c88cca\", \"#e1c37b\", \"#34223b\", \"#bdd8a3\", \"#6e3326\", \"#cfbdce\", \"#d07d3c\",\n",
    "\"#52697d\", \"#7d6d33\", \"#d27c88\", \"#36422b\", \"#b68f79\"])"
   ]
  },
  {
   "cell_type": "code",
   "execution_count": null,
   "metadata": {
    "collapsed": true
   },
   "outputs": [],
   "source": [
    "# plot_lda.scatter(source=lda_df, x='x', y='y', color=colormap[lda_keys])\n",
    "# hover = plot_lda.select(dict(type=HoverTool))\n",
    "# hover.tooltips={\"title\":\"@title\", \"topic\":\"@topic\", \"ticker\":\"@ticker\"}\n",
    "# show(plot_lda)"
   ]
  },
  {
   "cell_type": "markdown",
   "metadata": {},
   "source": [
    "# visualization of topics using pyLDAvis"
   ]
  },
  {
   "cell_type": "code",
   "execution_count": 13,
   "metadata": {
    "collapsed": true
   },
   "outputs": [],
   "source": [
    "lda_df['len_docs'] = lda_df['title'].apply(lambda x: len(x.split(' ')))"
   ]
  },
  {
   "cell_type": "code",
   "execution_count": 14,
   "metadata": {
    "collapsed": true
   },
   "outputs": [],
   "source": [
    "def prepareLDAData():\n",
    "    data = {\n",
    "        'vocab': vocab,\n",
    "        'doc_topic_dists': lda_model.doc_topic_,\n",
    "        'doc_lengths': list(lda_df['len_docs']),\n",
    "        'term_frequency':cvectorizer.vocabulary_,\n",
    "        'topic_term_dists': lda_model.components_\n",
    "    } \n",
    "    return data"
   ]
  },
  {
   "cell_type": "code",
   "execution_count": 15,
   "metadata": {
    "collapsed": true
   },
   "outputs": [],
   "source": [
    "import pyLDAvis\n",
    "pyLDAvis.enable_notebook()"
   ]
  },
  {
   "cell_type": "code",
   "execution_count": 16,
   "metadata": {
    "collapsed": true
   },
   "outputs": [],
   "source": [
    "ldadata = prepareLDAData()"
   ]
  },
  {
   "cell_type": "code",
   "execution_count": 17,
   "metadata": {},
   "outputs": [
    {
     "name": "stderr",
     "output_type": "stream",
     "text": [
      "/Users/annzhong/anaconda/lib/python3.6/site-packages/pyLDAvis/_prepare.py:387: DeprecationWarning: \n",
      ".ix is deprecated. Please use\n",
      ".loc for label based indexing or\n",
      ".iloc for positional indexing\n",
      "\n",
      "See the documentation here:\n",
      "http://pandas.pydata.org/pandas-docs/stable/indexing.html#ix-indexer-is-deprecated\n",
      "  topic_term_dists = topic_term_dists.ix[topic_order]\n"
     ]
    }
   ],
   "source": [
    "prepared_data = pyLDAvis.prepare(mds='tsne', **ldadata)"
   ]
  },
  {
   "cell_type": "code",
   "execution_count": 18,
   "metadata": {
    "collapsed": true
   },
   "outputs": [],
   "source": [
    "pyLDAvis.save_html(prepared_data,'./interactive plots/{}.html'.format(chosen))"
   ]
  },
  {
   "cell_type": "code",
   "execution_count": 20,
   "metadata": {},
   "outputs": [
    {
     "data": {
      "text/plain": [
       "[(0, 65111),\n",
       " (2, 1332),\n",
       " (3, 1263),\n",
       " (6, 1254),\n",
       " (8, 1249),\n",
       " (7, 1237),\n",
       " (5, 1219),\n",
       " (10, 1170),\n",
       " (9, 1125),\n",
       " (1, 1105),\n",
       " (11, 1101),\n",
       " (19, 1084),\n",
       " (14, 1074),\n",
       " (4, 1054),\n",
       " (17, 1050),\n",
       " (15, 1049),\n",
       " (18, 1025),\n",
       " (12, 986),\n",
       " (13, 969),\n",
       " (16, 765)]"
      ]
     },
     "execution_count": 20,
     "metadata": {},
     "output_type": "execute_result"
    }
   ],
   "source": [
    "# number of items in each topic\n",
    "c = Counter(lda_df['topic'])\n",
    "c.most_common()"
   ]
  },
  {
   "cell_type": "markdown",
   "metadata": {},
   "source": [
    "## for each topic, check the company rankings"
   ]
  },
  {
   "cell_type": "code",
   "execution_count": 57,
   "metadata": {
    "collapsed": true
   },
   "outputs": [],
   "source": [
    "topic_company_rank_df = pd.DataFrame()\n",
    "for i in range(n_topics):\n",
    "    topic_df = lda_df[lda_df['topic']==i]\n",
    "    top_companies = Counter(topic_df['ticker']).most_common(10)\n",
    "    topic_company_rank_df[i] = top_companies"
   ]
  },
  {
   "cell_type": "code",
   "execution_count": 64,
   "metadata": {
    "collapsed": true
   },
   "outputs": [],
   "source": [
    "topic_company_rank_df.columns = topic_summaries"
   ]
  },
  {
   "cell_type": "code",
   "execution_count": 96,
   "metadata": {},
   "outputs": [
    {
     "data": {
      "text/plain": [
       "['cloud computing environment, wireless communication system, system method dynamic, system method wireless, question answer system, management system method, out of order, forward error correction, system method protecting, system method improving',\n",
       " 'system method controlling, system method generating, phase change memory, data processing device, apparatus system method, programmable logic device, integrated circuit design, service level agreement, solid state memory, method system program',\n",
       " 'apparatus associated method, printed circuit board, method apparatus providing, question answering system, method apparatus processing, associated method facilitating, radio communication system, system method creating, database management system, pulse width modulation',\n",
       " 'handheld electronic device, graphical user interface, peer to peer, mobile communication device, system method device, mobile electronic device, mobile communication system, end to end, high aspect ratio, method system processing',\n",
       " 'three dimensional object, method apparatus reducing, system method identifying, semiconductor memory device, solid state drive, system on chip, universal serial bus, voltage controlled oscillator, non volatile semiconductor, plasma processing chamber',\n",
       " 'system method detecting, apparatus system method, device system method, processor method system, system method performing, method system instruction, method system determining, system method enabling, system method multi, system method communicating',\n",
       " 'non volatile memory, flash memory device, system method program, shallow trench isolation, volatile memory cell, volatile memory device, method program product, input multiple output, multiple input multiple, method program system',\n",
       " 'computer program product, method computer program, system method computer, method system computer, computer readable medium, system computer readable, system computer program, method apparatus computer, graphic processing unit, apparatus computer program',\n",
       " 'system method providing, phase change ink, system method facilitating, mobile data network, apparatus system method, metal oxide semiconductor, hand held electronic, content addressable memory, held electronic device, integrated development environment',\n",
       " 'random access memory, system method determining, system method using, integrated circuit package, apparatus method system, handheld communication device, method apparatus determining, static random access, dynamic random access, built in self',\n",
       " 'system apparatus method, data processing system, bipolar junction transistor, integrated circuit chip, method apparatus detecting, silicon on insulator, method operation thereof, point in time, semiconductor on insulator, plasma processing system',\n",
       " 'wireless communication device, mobile wireless communication, near field communication, data storage system, communication system providing, field communication nfc, communication device including, feature related method, system method processing, wireless communication system',\n",
       " 'mobile communication device, wireless communication network, method apparatus use, method apparatus pertaining, system method dynamically, method apparatus managing, wireless communication system, distributed processing system, instruction logic provide, using mobile device',\n",
       " 'system method managing, method system apparatus, networked computing environment, flash memory device, natural language processing, method system managing, virtual machine image, apparatus associated method, operation flash memory, method system using',\n",
       " 'method apparatus controlling, local area network, programmable gate array, system method implementing, field programmable gate, wireless local area, phase locked loop, analog to digital, to digital converter, time of flight',\n",
       " 'field effect transistor, replacement metal gate, application programming interface, fin field effect, source drain region, effect transistor device, optical communication system, high metal gate, software defined network, automatic gain control',\n",
       " 'portable electronic device, electronic device including, direct memory access, touch sensitive display, integrated circuit device, device to device, radio access technology, method system creating, mobile telecommunication system, radio access network',\n",
       " 'dispersed storage network, light emitting diode, encoded data slice, data dispersed storage, organic light emitting, method system detecting, system method adjusting, distributed storage network, multi core processor, light emitting device',\n",
       " 'method apparatus system, system method apparatus, mobile computing device, method apparatus generating, method apparatus performing, intermediate transfer member, data loss prevention, system method data, method apparatus using, based access control',\n",
       " 'dc dc converter, electronic device method, semiconductor device method, memory device method, system method reducing, portable electronic device, device method controlling, magnetic recording medium, flash memory device, system device method']"
      ]
     },
     "execution_count": 96,
     "metadata": {},
     "output_type": "execute_result"
    }
   ],
   "source": [
    "topic_summaries"
   ]
  },
  {
   "cell_type": "code",
   "execution_count": 65,
   "metadata": {},
   "outputs": [
    {
     "data": {
      "text/html": [
       "<div>\n",
       "<style>\n",
       "    .dataframe thead tr:only-child th {\n",
       "        text-align: right;\n",
       "    }\n",
       "\n",
       "    .dataframe thead th {\n",
       "        text-align: left;\n",
       "    }\n",
       "\n",
       "    .dataframe tbody tr th {\n",
       "        vertical-align: top;\n",
       "    }\n",
       "</style>\n",
       "<table border=\"1\" class=\"dataframe\">\n",
       "  <thead>\n",
       "    <tr style=\"text-align: right;\">\n",
       "      <th></th>\n",
       "      <th>field effect transistor, random access memory, light emitting diode, metal oxide semiconductor, organic light emitting, static random access, source drain region, fin field effect, dynamic random access, effect transistor device</th>\n",
       "      <th>method apparatus computer, system method apparatus, system method program, system method detecting, self aligned contact, apparatus computer program, method program product, plasma processing system, high aspect ratio, based access control</th>\n",
       "      <th>method system apparatus, three dimensional object, system method using, system method device, virtual machine image, plasma processing chamber, method apparatus using, system method protecting, multi core processor, system method apparatus</th>\n",
       "      <th>system method managing, non volatile memory, phase change ink, volatile memory cell, application programming interface, system on chip, method device system, rf power amplifier, downlink control channel, method manufacturing semiconductor</th>\n",
       "      <th>handheld electronic device, non volatile memory, system method determining, data processing device, device associated method, volatile memory device, graphic processing unit, electronic device associated, handheld communication device, forward error correction</th>\n",
       "      <th>portable electronic device, direct memory access, method apparatus pertaining, method apparatus managing, natural language processing, method apparatus performing, programmable logic device, solid state drive, software defined network, system method dynamic</th>\n",
       "      <th>apparatus system method, system method providing, device system method, processor method system, system method performing, method system instruction, system method wireless, computer readable recording, system method processing, readable recording medium</th>\n",
       "      <th>printed circuit board, system method controlling, electronic device method, data storage system, integrated circuit device, integrated circuit package, optical communication system, mobile data network, point in time, portable electronic device</th>\n",
       "      <th>system method providing, system method implementing, system method generating, system method detecting, method apparatus generating, intermediate transfer member, magnetic recording medium, database management system, user interface element, using mobile device</th>\n",
       "      <th>method apparatus providing, near field communication, communication system providing, field communication nfc, system method identifying, feature related method, integrated circuit chip, system method creating, built in self, content management system</th>\n",
       "      <th>graphical user interface, method apparatus controlling, flash memory device, phase change memory, shallow trench isolation, question answer system, time of flight, method system detecting, flash memory cell, input output device</th>\n",
       "      <th>wireless communication system, wireless communication network, semiconductor device including, integrated circuit design, silicon on insulator, data loss prevention, semiconductor on insulator, system method data, communication system including, pulse width modulation</th>\n",
       "      <th>method apparatus system, method system computer, computer readable medium, system computer readable, system computer program, local area network, question answering system, computer program product, wireless local area, phase locked loop</th>\n",
       "      <th>wireless communication device, mobile communication device, mobile wireless communication, programmable gate array, field programmable gate, communication device method, communication device including, antenna related method, low power state, method system identifying</th>\n",
       "      <th>dispersed storage network, system apparatus method, peer to peer, device to device, encoded data slice, data dispersed storage, distributed storage network, apparatus method performing, to device communication, method system creating</th>\n",
       "      <th>cloud computing environment, mobile computing device, analog to digital, to digital converter, bipolar junction transistor, method apparatus processing, method operation thereof, radio access technology, mobile telecommunication system, method system generating</th>\n",
       "      <th>computer program product, method computer program, system method computer, data processing system, computer software application, system method user, graphic processing unit, using social network, distributed computing system, apparatus method processing</th>\n",
       "      <th>apparatus associated method, networked computing environment, flash memory device, system method reducing, method apparatus reducing, semiconductor memory device, radio communication system, method system managing, associated method facilitating, out of order</th>\n",
       "      <th>dc dc converter, portable electronic device, electronic device including, method apparatus use, mobile communication device, touch sensitive display, system method facilitating, system method dynamically, instruction logic provide, wireless power transmission</th>\n",
       "      <th>method system providing, apparatus method system, semiconductor device method, memory device method, replacement metal gate, system method using, method system determining, method system processing, universal serial bus, system method adjusting</th>\n",
       "    </tr>\n",
       "  </thead>\n",
       "  <tbody>\n",
       "    <tr>\n",
       "      <th>0</th>\n",
       "      <td>(IBM, 23141)</td>\n",
       "      <td>(IBM, 323)</td>\n",
       "      <td>(IBM, 345)</td>\n",
       "      <td>(IBM, 306)</td>\n",
       "      <td>(BBRY, 410)</td>\n",
       "      <td>(IBM, 425)</td>\n",
       "      <td>(INTC, 373)</td>\n",
       "      <td>(IBM, 378)</td>\n",
       "      <td>(IBM, 227)</td>\n",
       "      <td>(IBM, 303)</td>\n",
       "      <td>(IBM, 423)</td>\n",
       "      <td>(IBM, 315)</td>\n",
       "      <td>(INTC, 228)</td>\n",
       "      <td>(BBRY, 419)</td>\n",
       "      <td>(IBM, 525)</td>\n",
       "      <td>(IBM, 275)</td>\n",
       "      <td>(IBM, 290)</td>\n",
       "      <td>(IBM, 261)</td>\n",
       "      <td>(BBRY, 251)</td>\n",
       "      <td>(IBM, 268)</td>\n",
       "    </tr>\n",
       "    <tr>\n",
       "      <th>1</th>\n",
       "      <td>(MSFT, 10320)</td>\n",
       "      <td>(INTC, 137)</td>\n",
       "      <td>(INTC, 229)</td>\n",
       "      <td>(INTC, 189)</td>\n",
       "      <td>(IBM, 133)</td>\n",
       "      <td>(BBRY, 234)</td>\n",
       "      <td>(IBM, 233)</td>\n",
       "      <td>(BBRY, 173)</td>\n",
       "      <td>(BBRY, 176)</td>\n",
       "      <td>(BBRY, 200)</td>\n",
       "      <td>(CY, 152)</td>\n",
       "      <td>(BBRY, 198)</td>\n",
       "      <td>(IBM, 220)</td>\n",
       "      <td>(IBM, 122)</td>\n",
       "      <td>(INTC, 181)</td>\n",
       "      <td>(INTC, 218)</td>\n",
       "      <td>(NVDA, 168)</td>\n",
       "      <td>(BBRY, 239)</td>\n",
       "      <td>(IBM, 167)</td>\n",
       "      <td>(INTC, 139)</td>\n",
       "    </tr>\n",
       "    <tr>\n",
       "      <th>2</th>\n",
       "      <td>(INTC, 8023)</td>\n",
       "      <td>(BBRY, 111)</td>\n",
       "      <td>(BBRY, 189)</td>\n",
       "      <td>(XRX, 144)</td>\n",
       "      <td>(INTC, 122)</td>\n",
       "      <td>(INTC, 147)</td>\n",
       "      <td>(BBRY, 154)</td>\n",
       "      <td>(INTC, 147)</td>\n",
       "      <td>(INTC, 169)</td>\n",
       "      <td>(INTC, 182)</td>\n",
       "      <td>(INTC, 147)</td>\n",
       "      <td>(INTC, 179)</td>\n",
       "      <td>(BBRY, 131)</td>\n",
       "      <td>(INTC, 110)</td>\n",
       "      <td>(BBRY, 81)</td>\n",
       "      <td>(BBRY, 136)</td>\n",
       "      <td>(INTC, 75)</td>\n",
       "      <td>(CY, 161)</td>\n",
       "      <td>(INTC, 135)</td>\n",
       "      <td>(BBRY, 117)</td>\n",
       "    </tr>\n",
       "    <tr>\n",
       "      <th>3</th>\n",
       "      <td>(BBRY, 3286)</td>\n",
       "      <td>(LRCX, 73)</td>\n",
       "      <td>(XRX, 111)</td>\n",
       "      <td>(BBRY, 135)</td>\n",
       "      <td>(NVDA, 71)</td>\n",
       "      <td>(MSFT, 58)</td>\n",
       "      <td>(MSFT, 60)</td>\n",
       "      <td>(TXN, 86)</td>\n",
       "      <td>(XRX, 161)</td>\n",
       "      <td>(MSFT, 75)</td>\n",
       "      <td>(MSFT, 97)</td>\n",
       "      <td>(MSFT, 55)</td>\n",
       "      <td>(XXIA, 95)</td>\n",
       "      <td>(HRS, 59)</td>\n",
       "      <td>(MSFT, 53)</td>\n",
       "      <td>(XRX, 74)</td>\n",
       "      <td>(BBRY, 34)</td>\n",
       "      <td>(INTC, 104)</td>\n",
       "      <td>(TXN, 67)</td>\n",
       "      <td>(XRX, 99)</td>\n",
       "    </tr>\n",
       "    <tr>\n",
       "      <th>4</th>\n",
       "      <td>(TXN, 2804)</td>\n",
       "      <td>(XRX, 63)</td>\n",
       "      <td>(MSFT, 82)</td>\n",
       "      <td>(CY, 121)</td>\n",
       "      <td>(CY, 54)</td>\n",
       "      <td>(XRX, 50)</td>\n",
       "      <td>(XRX, 58)</td>\n",
       "      <td>(CY, 67)</td>\n",
       "      <td>(MSFT, 69)</td>\n",
       "      <td>(XRX, 51)</td>\n",
       "      <td>(BBRY, 77)</td>\n",
       "      <td>(TXN, 46)</td>\n",
       "      <td>(TXN, 53)</td>\n",
       "      <td>(MSCC, 58)</td>\n",
       "      <td>(CY, 49)</td>\n",
       "      <td>(MSFT, 69)</td>\n",
       "      <td>(MSFT, 23)</td>\n",
       "      <td>(XRX, 65)</td>\n",
       "      <td>(CY, 64)</td>\n",
       "      <td>(CY, 74)</td>\n",
       "    </tr>\n",
       "    <tr>\n",
       "      <th>5</th>\n",
       "      <td>(XRX, 2603)</td>\n",
       "      <td>(MSFT, 63)</td>\n",
       "      <td>(SYMC, 55)</td>\n",
       "      <td>(SYMC, 56)</td>\n",
       "      <td>(TXN, 53)</td>\n",
       "      <td>(CY, 35)</td>\n",
       "      <td>(SYMC, 49)</td>\n",
       "      <td>(CIEN, 44)</td>\n",
       "      <td>(SYMC, 59)</td>\n",
       "      <td>(SYMC, 47)</td>\n",
       "      <td>(TXN, 45)</td>\n",
       "      <td>(SYMC, 45)</td>\n",
       "      <td>(XRX, 38)</td>\n",
       "      <td>(MSFT, 34)</td>\n",
       "      <td>(XRX, 43)</td>\n",
       "      <td>(TXN, 35)</td>\n",
       "      <td>(XRX, 20)</td>\n",
       "      <td>(MSFT, 40)</td>\n",
       "      <td>(MSFT, 50)</td>\n",
       "      <td>(MSFT, 71)</td>\n",
       "    </tr>\n",
       "    <tr>\n",
       "      <th>6</th>\n",
       "      <td>(CY, 1697)</td>\n",
       "      <td>(SYMC, 44)</td>\n",
       "      <td>(LRCX, 54)</td>\n",
       "      <td>(TXN, 50)</td>\n",
       "      <td>(MSFT, 48)</td>\n",
       "      <td>(TXN, 30)</td>\n",
       "      <td>(TXN, 40)</td>\n",
       "      <td>(MSFT, 40)</td>\n",
       "      <td>(TXN, 39)</td>\n",
       "      <td>(TXN, 34)</td>\n",
       "      <td>(XRX, 41)</td>\n",
       "      <td>(HRS, 39)</td>\n",
       "      <td>(MSFT, 34)</td>\n",
       "      <td>(XRX, 30)</td>\n",
       "      <td>(SYMC, 19)</td>\n",
       "      <td>(CY, 22)</td>\n",
       "      <td>(CY, 20)</td>\n",
       "      <td>(TXN, 29)</td>\n",
       "      <td>(XRX, 40)</td>\n",
       "      <td>(CIEN, 37)</td>\n",
       "    </tr>\n",
       "    <tr>\n",
       "      <th>7</th>\n",
       "      <td>(ADBE, 1127)</td>\n",
       "      <td>(TXN, 38)</td>\n",
       "      <td>(CIEN, 40)</td>\n",
       "      <td>(MSFT, 50)</td>\n",
       "      <td>(XRX, 30)</td>\n",
       "      <td>(CIEN, 28)</td>\n",
       "      <td>(NVDA, 32)</td>\n",
       "      <td>(XRX, 38)</td>\n",
       "      <td>(CY, 39)</td>\n",
       "      <td>(CY, 32)</td>\n",
       "      <td>(ADBE, 25)</td>\n",
       "      <td>(XRX, 30)</td>\n",
       "      <td>(SYMC, 23)</td>\n",
       "      <td>(TXN, 18)</td>\n",
       "      <td>(TXN, 17)</td>\n",
       "      <td>(NVDA, 20)</td>\n",
       "      <td>(LNKD, 15)</td>\n",
       "      <td>(HRS, 24)</td>\n",
       "      <td>(NVDA, 31)</td>\n",
       "      <td>(SYMC, 36)</td>\n",
       "    </tr>\n",
       "    <tr>\n",
       "      <th>8</th>\n",
       "      <td>(NVDA, 1048)</td>\n",
       "      <td>(CY, 33)</td>\n",
       "      <td>(TXN, 33)</td>\n",
       "      <td>(MSCC, 19)</td>\n",
       "      <td>(SYMC, 16)</td>\n",
       "      <td>(LSCC, 23)</td>\n",
       "      <td>(CY, 29)</td>\n",
       "      <td>(XCRA, 32)</td>\n",
       "      <td>(CIEN, 33)</td>\n",
       "      <td>(ADBE, 27)</td>\n",
       "      <td>(SYMC, 22)</td>\n",
       "      <td>(CY, 28)</td>\n",
       "      <td>(MSCC, 19)</td>\n",
       "      <td>(SYMC, 18)</td>\n",
       "      <td>(NVDA, 12)</td>\n",
       "      <td>(HRS, 19)</td>\n",
       "      <td>(SYMC, 14)</td>\n",
       "      <td>(SYMC, 17)</td>\n",
       "      <td>(SYMC, 28)</td>\n",
       "      <td>(TXN, 30)</td>\n",
       "    </tr>\n",
       "    <tr>\n",
       "      <th>9</th>\n",
       "      <td>(HRS, 913)</td>\n",
       "      <td>(ADBE, 30)</td>\n",
       "      <td>(CY, 27)</td>\n",
       "      <td>(CIEN, 19)</td>\n",
       "      <td>(SYNA, 14)</td>\n",
       "      <td>(SYMC, 23)</td>\n",
       "      <td>(CIEN, 19)</td>\n",
       "      <td>(NVDA, 31)</td>\n",
       "      <td>(WDC, 31)</td>\n",
       "      <td>(LNKD, 27)</td>\n",
       "      <td>(HRS, 20)</td>\n",
       "      <td>(CLIR, 17)</td>\n",
       "      <td>(LSCC, 17)</td>\n",
       "      <td>(ADBE, 11)</td>\n",
       "      <td>(CIEN, 10)</td>\n",
       "      <td>(SYMC, 16)</td>\n",
       "      <td>(IMMR, 14)</td>\n",
       "      <td>(NVDA, 15)</td>\n",
       "      <td>(WATT, 25)</td>\n",
       "      <td>(NVDA, 23)</td>\n",
       "    </tr>\n",
       "  </tbody>\n",
       "</table>\n",
       "</div>"
      ],
      "text/plain": [
       "  field effect transistor, random access memory, light emitting diode, metal oxide semiconductor, organic light emitting, static random access, source drain region, fin field effect, dynamic random access, effect transistor device  \\\n",
       "0                                       (IBM, 23141)                                                                                                                                                                                     \n",
       "1                                      (MSFT, 10320)                                                                                                                                                                                     \n",
       "2                                       (INTC, 8023)                                                                                                                                                                                     \n",
       "3                                       (BBRY, 3286)                                                                                                                                                                                     \n",
       "4                                        (TXN, 2804)                                                                                                                                                                                     \n",
       "5                                        (XRX, 2603)                                                                                                                                                                                     \n",
       "6                                         (CY, 1697)                                                                                                                                                                                     \n",
       "7                                       (ADBE, 1127)                                                                                                                                                                                     \n",
       "8                                       (NVDA, 1048)                                                                                                                                                                                     \n",
       "9                                         (HRS, 913)                                                                                                                                                                                     \n",
       "\n",
       "  method apparatus computer, system method apparatus, system method program, system method detecting, self aligned contact, apparatus computer program, method program product, plasma processing system, high aspect ratio, based access control  \\\n",
       "0                                         (IBM, 323)                                                                                                                                                                                                \n",
       "1                                        (INTC, 137)                                                                                                                                                                                                \n",
       "2                                        (BBRY, 111)                                                                                                                                                                                                \n",
       "3                                         (LRCX, 73)                                                                                                                                                                                                \n",
       "4                                          (XRX, 63)                                                                                                                                                                                                \n",
       "5                                         (MSFT, 63)                                                                                                                                                                                                \n",
       "6                                         (SYMC, 44)                                                                                                                                                                                                \n",
       "7                                          (TXN, 38)                                                                                                                                                                                                \n",
       "8                                           (CY, 33)                                                                                                                                                                                                \n",
       "9                                         (ADBE, 30)                                                                                                                                                                                                \n",
       "\n",
       "  method system apparatus, three dimensional object, system method using, system method device, virtual machine image, plasma processing chamber, method apparatus using, system method protecting, multi core processor, system method apparatus  \\\n",
       "0                                         (IBM, 345)                                                                                                                                                                                                \n",
       "1                                        (INTC, 229)                                                                                                                                                                                                \n",
       "2                                        (BBRY, 189)                                                                                                                                                                                                \n",
       "3                                         (XRX, 111)                                                                                                                                                                                                \n",
       "4                                         (MSFT, 82)                                                                                                                                                                                                \n",
       "5                                         (SYMC, 55)                                                                                                                                                                                                \n",
       "6                                         (LRCX, 54)                                                                                                                                                                                                \n",
       "7                                         (CIEN, 40)                                                                                                                                                                                                \n",
       "8                                          (TXN, 33)                                                                                                                                                                                                \n",
       "9                                           (CY, 27)                                                                                                                                                                                                \n",
       "\n",
       "  system method managing, non volatile memory, phase change ink, volatile memory cell, application programming interface, system on chip, method device system, rf power amplifier, downlink control channel, method manufacturing semiconductor  \\\n",
       "0                                         (IBM, 306)                                                                                                                                                                                               \n",
       "1                                        (INTC, 189)                                                                                                                                                                                               \n",
       "2                                         (XRX, 144)                                                                                                                                                                                               \n",
       "3                                        (BBRY, 135)                                                                                                                                                                                               \n",
       "4                                          (CY, 121)                                                                                                                                                                                               \n",
       "5                                         (SYMC, 56)                                                                                                                                                                                               \n",
       "6                                          (TXN, 50)                                                                                                                                                                                               \n",
       "7                                         (MSFT, 50)                                                                                                                                                                                               \n",
       "8                                         (MSCC, 19)                                                                                                                                                                                               \n",
       "9                                         (CIEN, 19)                                                                                                                                                                                               \n",
       "\n",
       "  handheld electronic device, non volatile memory, system method determining, data processing device, device associated method, volatile memory device, graphic processing unit, electronic device associated, handheld communication device, forward error correction  \\\n",
       "0                                        (BBRY, 410)                                                                                                                                                                                                                     \n",
       "1                                         (IBM, 133)                                                                                                                                                                                                                     \n",
       "2                                        (INTC, 122)                                                                                                                                                                                                                     \n",
       "3                                         (NVDA, 71)                                                                                                                                                                                                                     \n",
       "4                                           (CY, 54)                                                                                                                                                                                                                     \n",
       "5                                          (TXN, 53)                                                                                                                                                                                                                     \n",
       "6                                         (MSFT, 48)                                                                                                                                                                                                                     \n",
       "7                                          (XRX, 30)                                                                                                                                                                                                                     \n",
       "8                                         (SYMC, 16)                                                                                                                                                                                                                     \n",
       "9                                         (SYNA, 14)                                                                                                                                                                                                                     \n",
       "\n",
       "  portable electronic device, direct memory access, method apparatus pertaining, method apparatus managing, natural language processing, method apparatus performing, programmable logic device, solid state drive, software defined network, system method dynamic  \\\n",
       "0                                         (IBM, 425)                                                                                                                                                                                                                  \n",
       "1                                        (BBRY, 234)                                                                                                                                                                                                                  \n",
       "2                                        (INTC, 147)                                                                                                                                                                                                                  \n",
       "3                                         (MSFT, 58)                                                                                                                                                                                                                  \n",
       "4                                          (XRX, 50)                                                                                                                                                                                                                  \n",
       "5                                           (CY, 35)                                                                                                                                                                                                                  \n",
       "6                                          (TXN, 30)                                                                                                                                                                                                                  \n",
       "7                                         (CIEN, 28)                                                                                                                                                                                                                  \n",
       "8                                         (LSCC, 23)                                                                                                                                                                                                                  \n",
       "9                                         (SYMC, 23)                                                                                                                                                                                                                  \n",
       "\n",
       "  apparatus system method, system method providing, device system method, processor method system, system method performing, method system instruction, system method wireless, computer readable recording, system method processing, readable recording medium  \\\n",
       "0                                        (INTC, 373)                                                                                                                                                                                                               \n",
       "1                                         (IBM, 233)                                                                                                                                                                                                               \n",
       "2                                        (BBRY, 154)                                                                                                                                                                                                               \n",
       "3                                         (MSFT, 60)                                                                                                                                                                                                               \n",
       "4                                          (XRX, 58)                                                                                                                                                                                                               \n",
       "5                                         (SYMC, 49)                                                                                                                                                                                                               \n",
       "6                                          (TXN, 40)                                                                                                                                                                                                               \n",
       "7                                         (NVDA, 32)                                                                                                                                                                                                               \n",
       "8                                           (CY, 29)                                                                                                                                                                                                               \n",
       "9                                         (CIEN, 19)                                                                                                                                                                                                               \n",
       "\n",
       "  printed circuit board, system method controlling, electronic device method, data storage system, integrated circuit device, integrated circuit package, optical communication system, mobile data network, point in time, portable electronic device  \\\n",
       "0                                         (IBM, 378)                                                                                                                                                                                                     \n",
       "1                                        (BBRY, 173)                                                                                                                                                                                                     \n",
       "2                                        (INTC, 147)                                                                                                                                                                                                     \n",
       "3                                          (TXN, 86)                                                                                                                                                                                                     \n",
       "4                                           (CY, 67)                                                                                                                                                                                                     \n",
       "5                                         (CIEN, 44)                                                                                                                                                                                                     \n",
       "6                                         (MSFT, 40)                                                                                                                                                                                                     \n",
       "7                                          (XRX, 38)                                                                                                                                                                                                     \n",
       "8                                         (XCRA, 32)                                                                                                                                                                                                     \n",
       "9                                         (NVDA, 31)                                                                                                                                                                                                     \n",
       "\n",
       "  system method providing, system method implementing, system method generating, system method detecting, method apparatus generating, intermediate transfer member, magnetic recording medium, database management system, user interface element, using mobile device  \\\n",
       "0                                         (IBM, 227)                                                                                                                                                                                                                      \n",
       "1                                        (BBRY, 176)                                                                                                                                                                                                                      \n",
       "2                                        (INTC, 169)                                                                                                                                                                                                                      \n",
       "3                                         (XRX, 161)                                                                                                                                                                                                                      \n",
       "4                                         (MSFT, 69)                                                                                                                                                                                                                      \n",
       "5                                         (SYMC, 59)                                                                                                                                                                                                                      \n",
       "6                                          (TXN, 39)                                                                                                                                                                                                                      \n",
       "7                                           (CY, 39)                                                                                                                                                                                                                      \n",
       "8                                         (CIEN, 33)                                                                                                                                                                                                                      \n",
       "9                                          (WDC, 31)                                                                                                                                                                                                                      \n",
       "\n",
       "  method apparatus providing, near field communication, communication system providing, field communication nfc, system method identifying, feature related method, integrated circuit chip, system method creating, built in self, content management system  \\\n",
       "0                                         (IBM, 303)                                                                                                                                                                                                            \n",
       "1                                        (BBRY, 200)                                                                                                                                                                                                            \n",
       "2                                        (INTC, 182)                                                                                                                                                                                                            \n",
       "3                                         (MSFT, 75)                                                                                                                                                                                                            \n",
       "4                                          (XRX, 51)                                                                                                                                                                                                            \n",
       "5                                         (SYMC, 47)                                                                                                                                                                                                            \n",
       "6                                          (TXN, 34)                                                                                                                                                                                                            \n",
       "7                                           (CY, 32)                                                                                                                                                                                                            \n",
       "8                                         (ADBE, 27)                                                                                                                                                                                                            \n",
       "9                                         (LNKD, 27)                                                                                                                                                                                                            \n",
       "\n",
       "  graphical user interface, method apparatus controlling, flash memory device, phase change memory, shallow trench isolation, question answer system, time of flight, method system detecting, flash memory cell, input output device  \\\n",
       "0                                         (IBM, 423)                                                                                                                                                                                    \n",
       "1                                          (CY, 152)                                                                                                                                                                                    \n",
       "2                                        (INTC, 147)                                                                                                                                                                                    \n",
       "3                                         (MSFT, 97)                                                                                                                                                                                    \n",
       "4                                         (BBRY, 77)                                                                                                                                                                                    \n",
       "5                                          (TXN, 45)                                                                                                                                                                                    \n",
       "6                                          (XRX, 41)                                                                                                                                                                                    \n",
       "7                                         (ADBE, 25)                                                                                                                                                                                    \n",
       "8                                         (SYMC, 22)                                                                                                                                                                                    \n",
       "9                                          (HRS, 20)                                                                                                                                                                                    \n",
       "\n",
       "  wireless communication system, wireless communication network, semiconductor device including, integrated circuit design, silicon on insulator, data loss prevention, semiconductor on insulator, system method data, communication system including, pulse width modulation  \\\n",
       "0                                         (IBM, 315)                                                                                                                                                                                                                             \n",
       "1                                        (BBRY, 198)                                                                                                                                                                                                                             \n",
       "2                                        (INTC, 179)                                                                                                                                                                                                                             \n",
       "3                                         (MSFT, 55)                                                                                                                                                                                                                             \n",
       "4                                          (TXN, 46)                                                                                                                                                                                                                             \n",
       "5                                         (SYMC, 45)                                                                                                                                                                                                                             \n",
       "6                                          (HRS, 39)                                                                                                                                                                                                                             \n",
       "7                                          (XRX, 30)                                                                                                                                                                                                                             \n",
       "8                                           (CY, 28)                                                                                                                                                                                                                             \n",
       "9                                         (CLIR, 17)                                                                                                                                                                                                                             \n",
       "\n",
       "  method apparatus system, method system computer, computer readable medium, system computer readable, system computer program, local area network, question answering system, computer program product, wireless local area, phase locked loop  \\\n",
       "0                                        (INTC, 228)                                                                                                                                                                                              \n",
       "1                                         (IBM, 220)                                                                                                                                                                                              \n",
       "2                                        (BBRY, 131)                                                                                                                                                                                              \n",
       "3                                         (XXIA, 95)                                                                                                                                                                                              \n",
       "4                                          (TXN, 53)                                                                                                                                                                                              \n",
       "5                                          (XRX, 38)                                                                                                                                                                                              \n",
       "6                                         (MSFT, 34)                                                                                                                                                                                              \n",
       "7                                         (SYMC, 23)                                                                                                                                                                                              \n",
       "8                                         (MSCC, 19)                                                                                                                                                                                              \n",
       "9                                         (LSCC, 17)                                                                                                                                                                                              \n",
       "\n",
       "  wireless communication device, mobile communication device, mobile wireless communication, programmable gate array, field programmable gate, communication device method, communication device including, antenna related method, low power state, method system identifying  \\\n",
       "0                                        (BBRY, 419)                                                                                                                                                                                                                             \n",
       "1                                         (IBM, 122)                                                                                                                                                                                                                             \n",
       "2                                        (INTC, 110)                                                                                                                                                                                                                             \n",
       "3                                          (HRS, 59)                                                                                                                                                                                                                             \n",
       "4                                         (MSCC, 58)                                                                                                                                                                                                                             \n",
       "5                                         (MSFT, 34)                                                                                                                                                                                                                             \n",
       "6                                          (XRX, 30)                                                                                                                                                                                                                             \n",
       "7                                          (TXN, 18)                                                                                                                                                                                                                             \n",
       "8                                         (SYMC, 18)                                                                                                                                                                                                                             \n",
       "9                                         (ADBE, 11)                                                                                                                                                                                                                             \n",
       "\n",
       "  dispersed storage network, system apparatus method, peer to peer, device to device, encoded data slice, data dispersed storage, distributed storage network, apparatus method performing, to device communication, method system creating  \\\n",
       "0                                         (IBM, 525)                                                                                                                                                                                          \n",
       "1                                        (INTC, 181)                                                                                                                                                                                          \n",
       "2                                         (BBRY, 81)                                                                                                                                                                                          \n",
       "3                                         (MSFT, 53)                                                                                                                                                                                          \n",
       "4                                           (CY, 49)                                                                                                                                                                                          \n",
       "5                                          (XRX, 43)                                                                                                                                                                                          \n",
       "6                                         (SYMC, 19)                                                                                                                                                                                          \n",
       "7                                          (TXN, 17)                                                                                                                                                                                          \n",
       "8                                         (NVDA, 12)                                                                                                                                                                                          \n",
       "9                                         (CIEN, 10)                                                                                                                                                                                          \n",
       "\n",
       "  cloud computing environment, mobile computing device, analog to digital, to digital converter, bipolar junction transistor, method apparatus processing, method operation thereof, radio access technology, mobile telecommunication system, method system generating  \\\n",
       "0                                         (IBM, 275)                                                                                                                                                                                                                      \n",
       "1                                        (INTC, 218)                                                                                                                                                                                                                      \n",
       "2                                        (BBRY, 136)                                                                                                                                                                                                                      \n",
       "3                                          (XRX, 74)                                                                                                                                                                                                                      \n",
       "4                                         (MSFT, 69)                                                                                                                                                                                                                      \n",
       "5                                          (TXN, 35)                                                                                                                                                                                                                      \n",
       "6                                           (CY, 22)                                                                                                                                                                                                                      \n",
       "7                                         (NVDA, 20)                                                                                                                                                                                                                      \n",
       "8                                          (HRS, 19)                                                                                                                                                                                                                      \n",
       "9                                         (SYMC, 16)                                                                                                                                                                                                                      \n",
       "\n",
       "  computer program product, method computer program, system method computer, data processing system, computer software application, system method user, graphic processing unit, using social network, distributed computing system, apparatus method processing  \\\n",
       "0                                         (IBM, 290)                                                                                                                                                                                                               \n",
       "1                                        (NVDA, 168)                                                                                                                                                                                                               \n",
       "2                                         (INTC, 75)                                                                                                                                                                                                               \n",
       "3                                         (BBRY, 34)                                                                                                                                                                                                               \n",
       "4                                         (MSFT, 23)                                                                                                                                                                                                               \n",
       "5                                          (XRX, 20)                                                                                                                                                                                                               \n",
       "6                                           (CY, 20)                                                                                                                                                                                                               \n",
       "7                                         (LNKD, 15)                                                                                                                                                                                                               \n",
       "8                                         (SYMC, 14)                                                                                                                                                                                                               \n",
       "9                                         (IMMR, 14)                                                                                                                                                                                                               \n",
       "\n",
       "  apparatus associated method, networked computing environment, flash memory device, system method reducing, method apparatus reducing, semiconductor memory device, radio communication system, method system managing, associated method facilitating, out of order  \\\n",
       "0                                         (IBM, 261)                                                                                                                                                                                                                    \n",
       "1                                        (BBRY, 239)                                                                                                                                                                                                                    \n",
       "2                                          (CY, 161)                                                                                                                                                                                                                    \n",
       "3                                        (INTC, 104)                                                                                                                                                                                                                    \n",
       "4                                          (XRX, 65)                                                                                                                                                                                                                    \n",
       "5                                         (MSFT, 40)                                                                                                                                                                                                                    \n",
       "6                                          (TXN, 29)                                                                                                                                                                                                                    \n",
       "7                                          (HRS, 24)                                                                                                                                                                                                                    \n",
       "8                                         (SYMC, 17)                                                                                                                                                                                                                    \n",
       "9                                         (NVDA, 15)                                                                                                                                                                                                                    \n",
       "\n",
       "  dc dc converter, portable electronic device, electronic device including, method apparatus use, mobile communication device, touch sensitive display, system method facilitating, system method dynamically, instruction logic provide, wireless power transmission  \\\n",
       "0                                        (BBRY, 251)                                                                                                                                                                                                                    \n",
       "1                                         (IBM, 167)                                                                                                                                                                                                                    \n",
       "2                                        (INTC, 135)                                                                                                                                                                                                                    \n",
       "3                                          (TXN, 67)                                                                                                                                                                                                                    \n",
       "4                                           (CY, 64)                                                                                                                                                                                                                    \n",
       "5                                         (MSFT, 50)                                                                                                                                                                                                                    \n",
       "6                                          (XRX, 40)                                                                                                                                                                                                                    \n",
       "7                                         (NVDA, 31)                                                                                                                                                                                                                    \n",
       "8                                         (SYMC, 28)                                                                                                                                                                                                                    \n",
       "9                                         (WATT, 25)                                                                                                                                                                                                                    \n",
       "\n",
       "  method system providing, apparatus method system, semiconductor device method, memory device method, replacement metal gate, system method using, method system determining, method system processing, universal serial bus, system method adjusting  \n",
       "0                                         (IBM, 268)                                                                                                                                                                                                    \n",
       "1                                        (INTC, 139)                                                                                                                                                                                                    \n",
       "2                                        (BBRY, 117)                                                                                                                                                                                                    \n",
       "3                                          (XRX, 99)                                                                                                                                                                                                    \n",
       "4                                           (CY, 74)                                                                                                                                                                                                    \n",
       "5                                         (MSFT, 71)                                                                                                                                                                                                    \n",
       "6                                         (CIEN, 37)                                                                                                                                                                                                    \n",
       "7                                         (SYMC, 36)                                                                                                                                                                                                    \n",
       "8                                          (TXN, 30)                                                                                                                                                                                                    \n",
       "9                                         (NVDA, 23)                                                                                                                                                                                                    "
      ]
     },
     "execution_count": 65,
     "metadata": {},
     "output_type": "execute_result"
    }
   ],
   "source": [
    "topic_company_rank_df"
   ]
  },
  {
   "cell_type": "code",
   "execution_count": null,
   "metadata": {
    "collapsed": true
   },
   "outputs": [],
   "source": []
  }
 ],
 "metadata": {
  "kernelspec": {
   "display_name": "Python 3",
   "language": "python",
   "name": "python3"
  },
  "language_info": {
   "codemirror_mode": {
    "name": "ipython",
    "version": 3
   },
   "file_extension": ".py",
   "mimetype": "text/x-python",
   "name": "python",
   "nbconvert_exporter": "python",
   "pygments_lexer": "ipython3",
   "version": "3.6.2"
  }
 },
 "nbformat": 4,
 "nbformat_minor": 2
}
